{
  "cells": [
    {
      "cell_type": "markdown",
      "metadata": {
        "id": "view-in-github",
        "colab_type": "text"
      },
      "source": [
        "<a href=\"https://colab.research.google.com/github/sssoja/python-intro/blob/main/Session6.ipynb\" target=\"_parent\"><img src=\"https://colab.research.google.com/assets/colab-badge.svg\" alt=\"Open In Colab\"/></a>"
      ]
    },
    {
      "cell_type": "markdown",
      "metadata": {
        "id": "P1LLsdOW63x_"
      },
      "source": [
        "# Session 6: Django Basics\n",
        "## Rodrigo Careaga\n",
        "###  22/May/2024\n"
      ]
    },
    {
      "cell_type": "markdown",
      "metadata": {
        "id": "cBTZET2n4-Z2"
      },
      "source": [
        "### Django Basics"
      ]
    },
    {
      "cell_type": "markdown",
      "metadata": {
        "id": "kHZQ-tLt5B-j"
      },
      "source": [
        "##### 1. Introduction to Django"
      ]
    },
    {
      "cell_type": "markdown",
      "metadata": {
        "id": "NjVAB8m35Fym"
      },
      "source": [
        "Django is a high-level Python web framework that encourages rapid development and clean, pragmatic design. It's built by experienced developers and handles much of the hassle of web development, so you can focus on writing your app without needing to reinvent the wheel."
      ]
    },
    {
      "cell_type": "markdown",
      "metadata": {
        "id": "SWh7AS7-Ma93"
      },
      "source": [
        "##### What is Django?\n",
        "- High-level Python Web framework\n",
        "- Encourages rapid development\n",
        "- Follows the DRY (Don't Repeat Yourself) principle"
      ]
    },
    {
      "cell_type": "markdown",
      "metadata": {
        "id": "2OZZuyjZMa93"
      },
      "source": [
        "##### Why use Django?\n",
        "- Robust documentation\n",
        "- Large community\n",
        "- Includes many extras: authentication, messages, static files, etc."
      ]
    },
    {
      "cell_type": "markdown",
      "metadata": {
        "id": "m7CClhqm63yF"
      },
      "source": [
        "### Setting Up a Django Project"
      ]
    },
    {
      "cell_type": "markdown",
      "metadata": {
        "id": "7Koz74l9mJ_7"
      },
      "source": [
        "To start using Django, you need to create a project. Here's a quick setup:\n",
        "\n",
        "1. Install Django if you haven't already:\n"
      ]
    },
    {
      "cell_type": "code",
      "execution_count": null,
      "metadata": {
        "id": "4n76M5k3mOZK"
      },
      "outputs": [],
      "source": [
        "!pip install django"
      ]
    },
    {
      "cell_type": "markdown",
      "metadata": {
        "id": "S8Obc8NjwPz6"
      },
      "source": [
        "Start a new Django project by running:\n",
        "\n",
        "\n",
        "```\n",
        "django-admin startproject mysite\n",
        "```\n",
        "\n"
      ]
    },
    {
      "cell_type": "markdown",
      "metadata": {
        "id": "0CKoPd8zwUwU"
      },
      "source": [
        "Run the development server:\n",
        "\n",
        "```\n",
        "cd mysite\n",
        "python manage.py runserver\n",
        "```\n",
        "\n"
      ]
    },
    {
      "cell_type": "markdown",
      "metadata": {
        "id": "xnr5KdliwsRl"
      },
      "source": [
        "Visit http://127.0.0.1:8000/ in your web browser to see the live server."
      ]
    },
    {
      "cell_type": "markdown",
      "metadata": {
        "id": "nGxrx0tyMa95"
      },
      "source": [
        "### Part 2: Basic Routing\n",
        "Django routes the user requests to the appropriate view based on the request URL."
      ]
    },
    {
      "cell_type": "markdown",
      "metadata": {
        "id": "GaVKrkS4Ma95"
      },
      "source": [
        "\n",
        "```\n",
        "urls.py\n",
        "```"
      ]
    },
    {
      "cell_type": "markdown",
      "metadata": {
        "id": "1KISbe8cMa95"
      },
      "source": [
        "This file is the routing table of your Django project. Let's add a simple route."
      ]
    },
    {
      "cell_type": "code",
      "execution_count": null,
      "metadata": {
        "id": "TfYo7dJxMa95"
      },
      "outputs": [],
      "source": [
        "from django.urls import path\n",
        "from . import views\n",
        "\n",
        "urlpatterns = [\n",
        "    path('', views.home, name='home'),\n",
        "]"
      ]
    },
    {
      "cell_type": "markdown",
      "metadata": {
        "id": "2KmuAjdoMa96"
      },
      "source": [
        "##### Exercise: Create a Basic Route\n",
        "\n",
        " Add a new URL pattern that directs to a view called about."
      ]
    },
    {
      "cell_type": "code",
      "execution_count": null,
      "metadata": {
        "id": "DAwde1ZGMa96"
      },
      "outputs": [],
      "source": []
    },
    {
      "cell_type": "code",
      "execution_count": null,
      "metadata": {
        "id": "ZYFVgdv5Ma96"
      },
      "outputs": [],
      "source": [
        "# urls.py\n",
        "\n",
        "from django.urls import path\n",
        "from . import views\n",
        "\n",
        "urlpatterns = [\n",
        "    path('', views.home, name='home'),\n",
        "    path('about/', views.about, name='about'),\n",
        "]\n"
      ]
    },
    {
      "cell_type": "markdown",
      "metadata": {
        "id": "lCuHgC1RMa96"
      },
      "source": [
        "#### Part 3: Views\n",
        "\n",
        "Views handle the logic and control how the data is presented to the user."
      ]
    },
    {
      "cell_type": "markdown",
      "metadata": {
        "id": "GdeTov4AMa96"
      },
      "source": [
        "##### Creating a View\n",
        "In Django, a view is just a Python function that receives a web request and returns a web response."
      ]
    },
    {
      "cell_type": "code",
      "execution_count": null,
      "metadata": {
        "id": "z6getTxNMa96"
      },
      "outputs": [],
      "source": [
        "from django.http import HttpResponse\n",
        "\n",
        "def home(request):\n",
        "    return HttpResponse(\"Welcome to the Django Class!\")"
      ]
    },
    {
      "cell_type": "markdown",
      "metadata": {
        "id": "jbRQ0TzTMa97"
      },
      "source": [
        "#### Exercise: Create Your Own View\n",
        "Create a view named about that returns an HttpResponse with a brief description about yourself or the site."
      ]
    },
    {
      "cell_type": "code",
      "execution_count": null,
      "metadata": {
        "id": "TgFCtNhJMa97"
      },
      "outputs": [],
      "source": [
        "# views.py\n",
        "from django.http import HttpResponse\n",
        "\n",
        "def home(request):\n",
        "    return HttpResponse(\"Welcome to the Django Class!\")\n",
        "\n",
        "def about(request):\n",
        "    return HttpResponse(\"About this site: This site is a demo for learning Django.\")\n"
      ]
    },
    {
      "cell_type": "markdown",
      "metadata": {
        "id": "fqe5x3jVMa97"
      },
      "source": [
        "### Part 4: Models\n",
        "\n",
        "Models are Python objects that define the structure of an application’s data and provide mechanisms to manage (add, modify, delete) and query records in the database."
      ]
    },
    {
      "cell_type": "markdown",
      "metadata": {
        "id": "oDB5T0DEMa97"
      },
      "source": [
        "#### Define a Model"
      ]
    },
    {
      "cell_type": "code",
      "execution_count": null,
      "metadata": {
        "id": "nLKEhkRsMa98"
      },
      "outputs": [],
      "source": [
        "from django.db import models\n",
        "\n",
        "class Participant(models.Model):\n",
        "    name = models.CharField(max_length=100)\n",
        "    email = models.EmailField()"
      ]
    },
    {
      "cell_type": "markdown",
      "metadata": {
        "id": "COfokvCyMa98"
      },
      "source": [
        "Remember to perform migrations to update your database schema:"
      ]
    },
    {
      "cell_type": "code",
      "execution_count": null,
      "metadata": {
        "id": "wMTl00tQMa98"
      },
      "outputs": [],
      "source": [
        "python manage.py makemigrations\n",
        "python manage.py migrate"
      ]
    },
    {
      "cell_type": "markdown",
      "metadata": {
        "id": "hMh0JL1fMa98"
      },
      "source": [
        "##### Exercise: Define a Model\n",
        "Define a model Course with fields title (as a char field) and description (as a text field)."
      ]
    },
    {
      "cell_type": "code",
      "execution_count": null,
      "metadata": {
        "id": "TnUC4vH7Ma99"
      },
      "outputs": [],
      "source": [
        "# models.py\n",
        "\n",
        "from django.db import models\n",
        "\n",
        "class Course(models.Model):\n",
        "    title = models.CharField(max_length=200)\n",
        "    description = models.TextField()"
      ]
    },
    {
      "cell_type": "code",
      "execution_count": null,
      "metadata": {
        "id": "NyEXRKL8Ma99"
      },
      "outputs": [],
      "source": [
        "python manage.py makemigrations\n",
        "python manage.py migrate"
      ]
    },
    {
      "cell_type": "markdown",
      "metadata": {
        "id": "tXEUPmrmMa99"
      },
      "source": [
        "### Part 5: Templates\n",
        "\n",
        "Templates are HTML files which allow Python-like expressions for dynamic content generation."
      ]
    },
    {
      "cell_type": "markdown",
      "metadata": {
        "id": "_hVXHryMMa99"
      },
      "source": [
        "#### Basic Template\n",
        "Create a file home.html in the templates directory."
      ]
    },
    {
      "cell_type": "markdown",
      "metadata": {
        "id": "GQzhiI1PMa9-"
      },
      "source": [
        "<html>\n",
        "<head><title>Home Page</title></head>\n",
        "<body>\n",
        "  <h1>Welcome to the Django Class!</h1>\n",
        "</body>\n",
        "</html>"
      ]
    },
    {
      "cell_type": "markdown",
      "metadata": {
        "id": "iuW87XloMa9-"
      },
      "source": [
        "##### Exercise: Create a Template\n",
        "Create a template for the about view you created, including your name and a description."
      ]
    },
    {
      "cell_type": "markdown",
      "metadata": {
        "id": "cMojGObYMa9-"
      },
      "source": [
        "\n",
        "<html>\n",
        "<head><title>About Page</title></head>\n",
        "<body>\n",
        "  <h1>About Page</h1>\n",
        "  <p>This site is a demo for learning Django. Created by Rodrigo Careaga.</p>\n",
        "</body>\n",
        "</html>\n"
      ]
    },
    {
      "cell_type": "markdown",
      "metadata": {
        "id": "Rk6TfrdVMa9-"
      },
      "source": [
        "Make sure your Django view (about view) renders this template:"
      ]
    },
    {
      "cell_type": "code",
      "execution_count": null,
      "metadata": {
        "id": "mbsoBX_sMa9_"
      },
      "outputs": [],
      "source": [
        "from django.shortcuts import render\n",
        "\n",
        "def about(request):\n",
        "    return render(request, 'about.html')"
      ]
    },
    {
      "cell_type": "markdown",
      "metadata": {
        "id": "G93_TeB6Ma-F"
      },
      "source": [
        "### Final Exercise: Combine All Parts\n",
        "\n",
        "Create a small Django application that includes:\n",
        "- A model Event with fields for name and date.\n",
        "- A view that displays a list of upcoming events sorted by date.\n",
        "- A template that formats this list in a user-friendly way."
      ]
    },
    {
      "cell_type": "markdown",
      "metadata": {
        "id": "rzGe6jYtMa-F"
      },
      "source": [
        "##### Model"
      ]
    },
    {
      "cell_type": "code",
      "execution_count": null,
      "metadata": {
        "id": "DJZM6zL9Ma-F"
      },
      "outputs": [],
      "source": [
        "# models.py\n",
        "\n",
        "from django.db import models\n",
        "\n",
        "class Event(models.Model):\n",
        "    name = models.CharField(max_length=200)\n",
        "    date = models.DateField()"
      ]
    },
    {
      "cell_type": "markdown",
      "metadata": {
        "id": "Pm--O6JoMa-F"
      },
      "source": [
        "##### View"
      ]
    },
    {
      "cell_type": "code",
      "execution_count": null,
      "metadata": {
        "id": "Dh1IiBJLMa-G"
      },
      "outputs": [],
      "source": [
        "# views.py\n",
        "\n",
        "from django.shortcuts import render\n",
        "from .models import Event\n",
        "\n",
        "def event_list(request):\n",
        "    events = Event.objects.order_by('date').all()\n",
        "    return render(request, 'events.html', {'events': events})\n"
      ]
    },
    {
      "cell_type": "markdown",
      "metadata": {
        "id": "X4fs0zzoMa-G"
      },
      "source": [
        "##### Template"
      ]
    },
    {
      "cell_type": "markdown",
      "metadata": {
        "id": "oYQfO9ueMa-G"
      },
      "source": [
        "<!-- events.html -->\n",
        "\n",
        "<html>\n",
        "<head><title>Upcoming Events</title></head>\n",
        "<body>\n",
        "  <h1>Upcoming Events</h1>\n",
        "  <ul>\n",
        "    {% for event in events %}\n",
        "      <li>{{ event.name }} - {{ event.date }}</li>\n",
        "    {% endfor %}\n",
        "  </ul>\n",
        "</body>\n",
        "</html>\n"
      ]
    },
    {
      "cell_type": "markdown",
      "metadata": {
        "id": "qYpZ-soPMa-G"
      },
      "source": [
        "##### URL Configuration:"
      ]
    },
    {
      "cell_type": "code",
      "execution_count": null,
      "metadata": {
        "id": "NVxhiWL9Ma-G"
      },
      "outputs": [],
      "source": [
        "# models.py\n",
        "\n",
        "from django.db import models\n",
        "\n",
        "class Event(models.Model):\n",
        "    name = models.CharField(max_length=200)\n",
        "    date = models.DateField()"
      ]
    }
  ],
  "metadata": {
    "colab": {
      "collapsed_sections": [
        "kHZQ-tLt5B-j",
        "lR1m3xId5Sh3",
        "GPzQWLh85ldk",
        "wnu3K2ud5v5z",
        "rSnpJre56idv",
        "azYX4_b76bRF",
        "i7Jen-9w2-wM",
        "RsAbjbs963yA",
        "Zb4SgSgi63yF",
        "tmxAIltHENii",
        "qi809PCWEVGY",
        "gSFMLGfYEedE",
        "AD6c26QQLw9i",
        "iC_Xnj4sEiWk"
      ],
      "provenance": [],
      "include_colab_link": true
    },
    "kernelspec": {
      "display_name": "Python 3",
      "language": "python",
      "name": "python3"
    },
    "language_info": {
      "codemirror_mode": {
        "name": "ipython",
        "version": 3
      },
      "file_extension": ".py",
      "mimetype": "text/x-python",
      "name": "python",
      "nbconvert_exporter": "python",
      "pygments_lexer": "ipython3",
      "version": "3.10.13"
    }
  },
  "nbformat": 4,
  "nbformat_minor": 0
}
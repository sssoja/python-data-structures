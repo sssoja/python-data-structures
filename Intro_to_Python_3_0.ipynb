{
  "nbformat": 4,
  "nbformat_minor": 0,
  "metadata": {
    "colab": {
      "provenance": [],
      "authorship_tag": "ABX9TyPkpRKkndeRrUKu4vOEkDPV",
      "include_colab_link": true
    },
    "kernelspec": {
      "name": "python3",
      "display_name": "Python 3"
    },
    "language_info": {
      "name": "python"
    }
  },
  "cells": [
    {
      "cell_type": "markdown",
      "metadata": {
        "id": "view-in-github",
        "colab_type": "text"
      },
      "source": [
        "<a href=\"https://colab.research.google.com/github/sssoja/python-intro/blob/main/Intro_to_Python_3_0.ipynb\" target=\"_parent\"><img src=\"https://colab.research.google.com/assets/colab-badge.svg\" alt=\"Open In Colab\"/></a>"
      ]
    },
    {
      "cell_type": "markdown",
      "source": [
        "Part 1: Introduction to Loops"
      ],
      "metadata": {
        "id": "yWOvAetE2g5L"
      }
    },
    {
      "cell_type": "code",
      "source": [
        "# Exercise: Print each item in the following list using a for loop.\n",
        "fruits = [\"apple\", \"banana\", \"cherry\"]\n",
        "\n",
        "for fruit in fruits:\n",
        " print(fruit)"
      ],
      "metadata": {
        "colab": {
          "base_uri": "https://localhost:8080/"
        },
        "id": "svZuvo6r2jEL",
        "outputId": "b80955ef-6234-44be-fe2b-cebe2cc250bf"
      },
      "execution_count": 5,
      "outputs": [
        {
          "output_type": "stream",
          "name": "stdout",
          "text": [
            "apple\n",
            "banana\n",
            "cherry\n"
          ]
        }
      ]
    },
    {
      "cell_type": "markdown",
      "source": [
        "Exercise - while Loop Control"
      ],
      "metadata": {
        "id": "QjQ5FMy-3PLs"
      }
    },
    {
      "cell_type": "code",
      "source": [
        "# Write a while loop that starts at 10 and counts down to 0.\n",
        "count = 10\n",
        "\n",
        "while count >= 0:\n",
        "  print(count)\n",
        "  count -= 1\n",
        "\n",
        "# Runs once\n",
        "count = 10\n",
        "stop = False\n",
        "while stop == False:\n",
        "  print(count)\n",
        "  count =-1\n",
        "  stop = True"
      ],
      "metadata": {
        "colab": {
          "base_uri": "https://localhost:8080/"
        },
        "id": "0JDjQVxq3Py9",
        "outputId": "7543eefa-09e2-4bab-e3e4-2dfd17ec938e"
      },
      "execution_count": 9,
      "outputs": [
        {
          "output_type": "stream",
          "name": "stdout",
          "text": [
            "10\n",
            "9\n",
            "8\n",
            "7\n",
            "6\n",
            "5\n",
            "4\n",
            "3\n",
            "2\n",
            "1\n",
            "0\n",
            "10\n"
          ]
        }
      ]
    },
    {
      "cell_type": "markdown",
      "source": [
        "Part 3: Conditional Statements (if, else, elif)"
      ],
      "metadata": {
        "id": "v3YVaMV14Tay"
      }
    },
    {
      "cell_type": "markdown",
      "source": [
        "Introduction to Conditional Statements"
      ],
      "metadata": {
        "id": "FTptSmeD4gFz"
      }
    },
    {
      "cell_type": "code",
      "source": [
        "# Exercise: Write an if-elif-else chain that prints \"child\" if age < 13,\n",
        "# \"teen\" if age is between 13 and 19, and \"adult\" otherwise.\n",
        "# Ask for input, remember the correct variable type.\n",
        "\n",
        "age = 16\n",
        "status = \"Adult\"\n",
        "\n",
        "if age < 13:\n",
        " status = \"You are a child.\"\n",
        "elif age <= 19:\n",
        "  status = \"You are a teen\"\n",
        "else:\n",
        " status = \"You are an adult.\"\n",
        "\n",
        "print(status)"
      ],
      "metadata": {
        "colab": {
          "base_uri": "https://localhost:8080/"
        },
        "id": "TIdOqxJV4iyL",
        "outputId": "2495d66b-a0d8-4a7a-fe33-2804ccc4b8f6"
      },
      "execution_count": 14,
      "outputs": [
        {
          "output_type": "stream",
          "name": "stdout",
          "text": [
            "You are a teen\n"
          ]
        }
      ]
    },
    {
      "cell_type": "markdown",
      "source": [
        "Part 4: Reinforcement Exercises"
      ],
      "metadata": {
        "id": "s_C3lRgp79VJ"
      }
    },
    {
      "cell_type": "code",
      "source": [
        "# Copying lists: How to copy a list without affecting the original list?\n",
        "\n",
        "# Exercise: Create a list of numbers from 1 to 10 using a for loop and\n",
        "# List item\n",
        "# List item\n",
        "# append each number squared to a new list.\n",
        "\n",
        "squared_numbers = []\n",
        "\n",
        "# Use a for loop to iterate from 1 to 10\n",
        "for i in range(1, 11):\n",
        "    # Append each number to the list\n",
        "    squared_numbers.append(i ** 2)\n",
        "\n",
        "print(squared_numbers)\n"
      ],
      "metadata": {
        "colab": {
          "base_uri": "https://localhost:8080/"
        },
        "id": "kDHdJNer8BnG",
        "outputId": "4322b933-87eb-481b-bbf1-687c4c924caf"
      },
      "execution_count": 24,
      "outputs": [
        {
          "output_type": "stream",
          "name": "stdout",
          "text": [
            "[1, 4, 9, 16, 25, 36, 49, 64, 81, 100]\n"
          ]
        }
      ]
    }
  ]
}
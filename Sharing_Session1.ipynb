{
  "nbformat": 4,
  "nbformat_minor": 0,
  "metadata": {
    "colab": {
      "provenance": [],
      "collapsed_sections": [
        "D6uE5V-ZlAWV",
        "sdZ_oWIplj6D",
        "baFuiQnfk1Nz",
        "tnH0oZ4VmVwN",
        "7s_WTYMynfGK",
        "ixssfUMZnkD_",
        "6TVdllUvm9bA",
        "WWuT4z0DorSQ",
        "4Hy6ZJxnpaFk",
        "-j80k1gWpgLA",
        "YEMDAioDpwMy",
        "ECZ7Cfe8r7dD",
        "cdkp-XLJtSkt",
        "nP-l-HN01hmr",
        "yLJQ9DZT25ls"
      ],
      "include_colab_link": true
    },
    "kernelspec": {
      "name": "python3",
      "display_name": "Python 3"
    },
    "language_info": {
      "name": "python"
    }
  },
  "cells": [
    {
      "cell_type": "markdown",
      "metadata": {
        "id": "view-in-github",
        "colab_type": "text"
      },
      "source": [
        "<a href=\"https://colab.research.google.com/github/sssoja/python-training/blob/main/Sharing_Session1.ipynb\" target=\"_parent\"><img src=\"https://colab.research.google.com/assets/colab-badge.svg\" alt=\"Open In Colab\"/></a>"
      ]
    },
    {
      "cell_type": "markdown",
      "source": [
        "# Python Fundamentals\n",
        "## Rodrigo Careaga\n",
        "### Date: 29/April/2024\n"
      ],
      "metadata": {
        "id": "MWbMmOAwPmFt"
      }
    },
    {
      "cell_type": "markdown",
      "source": [
        "## First lesson"
      ],
      "metadata": {
        "id": "F5DDsf99QIOy"
      }
    },
    {
      "cell_type": "markdown",
      "source": [
        "Slido Poll\n",
        "Join at:\n",
        "slido.com\n",
        "1271 916\n"
      ],
      "metadata": {
        "id": "hc57O0uBSW-P"
      }
    },
    {
      "cell_type": "markdown",
      "source": [
        "### Part 1: Introduction to Python (30 minutes)\n",
        "\n"
      ],
      "metadata": {
        "id": "dZx3R02Tkq0K"
      }
    },
    {
      "cell_type": "markdown",
      "source": [
        "#### Introduction"
      ],
      "metadata": {
        "id": "D6uE5V-ZlAWV"
      }
    },
    {
      "cell_type": "markdown",
      "source": [
        "##### Introduction to Python\n",
        "\n",
        "Python is a high-level, interpreted, general-purpose programming language, designed by Guido van Rossum and first released in 1991. Python is used in a wide range of applications, from web development to data science and machine learning.\n",
        "\n",
        "##### Why Python?\n",
        "\n",
        "- **Easy to learn:** Python has a simple and readable syntax, making it accessible for beginners.\n",
        "\n",
        "- **Versatile:** It is used in multiple fields, such as web development, data science, automation, etc."
      ],
      "metadata": {
        "id": "ILu1exfElHI4"
      }
    },
    {
      "cell_type": "markdown",
      "source": [
        "#### Exercise - Hello World"
      ],
      "metadata": {
        "id": "sdZ_oWIplj6D"
      }
    },
    {
      "cell_type": "code",
      "source": [],
      "metadata": {
        "id": "DbPOvKLXtMjE"
      },
      "execution_count": null,
      "outputs": []
    },
    {
      "cell_type": "code",
      "source": [
        "# Exercise: Write your first Python program that prints \"Hello World\"\n",
        "\n",
        "print(\"Hello World\")"
      ],
      "metadata": {
        "id": "WfhLSqczlpKJ",
        "colab": {
          "base_uri": "https://localhost:8080/"
        },
        "outputId": "07706229-efeb-4583-b6a5-de7c993e5720"
      },
      "execution_count": null,
      "outputs": [
        {
          "output_type": "stream",
          "name": "stdout",
          "text": [
            "Hello World\n"
          ]
        }
      ]
    },
    {
      "cell_type": "markdown",
      "source": [
        "#### Installing Python, VS Code and using Jupyter Notebooks with Google Colab"
      ],
      "metadata": {
        "id": "baFuiQnfk1Nz"
      }
    },
    {
      "cell_type": "markdown",
      "source": [
        "10 minutes\n",
        "First we're gonna install Python\n",
        "\n",
        "1. [Python](https://www.python.org)\n",
        "\n",
        "As second step we'll download VS Code\n",
        "2. [Visual Studio Code](https://code.visualstudio.com/)\n",
        "\n",
        "Then install Anaconda an open-source Distribution is the easiest way to perform Python/R data science and machine learning on a single machine.\n",
        "3. [Anaconda](https://www.anaconda.com/download)\n",
        "\n",
        "Finally using our Google Account we'll gonna create a new Jupyter notebook.\n",
        "4. [Colab](https://colab.research.google.com/)\n"
      ],
      "metadata": {
        "id": "beYhtIdMRKsi"
      }
    },
    {
      "cell_type": "markdown",
      "source": [
        "### Part 2: Basic Syntax (30 minutes)\n",
        "\n"
      ],
      "metadata": {
        "id": "tnH0oZ4VmVwN"
      }
    },
    {
      "cell_type": "markdown",
      "source": [
        "##### Theory - Basic Syntax"
      ],
      "metadata": {
        "id": "OJMVH3sImd0m"
      }
    },
    {
      "cell_type": "markdown",
      "source": [
        "##### Basic Syntax in Python Syntax in Python is vital for writing clean and efficient code. Key aspects include:\n",
        "\n",
        "- **Indentation:** Python uses indentation to define blocks of code.\n",
        "\n",
        "- **Comments:** Used to explain and improve code readability. They can be made using the `#` symbol."
      ],
      "metadata": {
        "id": "rQHDDpaYmsHy"
      }
    },
    {
      "cell_type": "markdown",
      "source": [
        "### 15 minutes break"
      ],
      "metadata": {
        "id": "mzPjV3TB3HPp"
      }
    },
    {
      "cell_type": "markdown",
      "source": [
        "### Part 3: Variable Types (30 minutes)"
      ],
      "metadata": {
        "id": "7s_WTYMynfGK"
      }
    },
    {
      "cell_type": "markdown",
      "source": [
        "#### Theory - Data Types"
      ],
      "metadata": {
        "id": "ixssfUMZnkD_"
      }
    },
    {
      "cell_type": "markdown",
      "source": [
        "##### Data Types in Python Python handles several basic data types:\n",
        "\n",
        "- **int:** Integer numbers\n",
        "\n",
        "- **float:** Decimal numbers\n",
        "\n",
        "- **str:** String (text)\n",
        "\n",
        "- **bool:** Booleans (True or False)"
      ],
      "metadata": {
        "id": "0UjTB-nqnq1B"
      }
    },
    {
      "cell_type": "markdown",
      "source": [
        "#### Exercise 1 - Writing a Simple Program\n",
        "Create a program that assigns a variable and then prints it. Add a comment of how the program works"
      ],
      "metadata": {
        "id": "6TVdllUvm9bA"
      }
    },
    {
      "cell_type": "code",
      "source": [
        "# Exercise: Printing my_variable\n",
        "\n",
        "my_variable = \"Learning Python!\"\n",
        "print(my_variable)"
      ],
      "metadata": {
        "id": "tuuMNJWimpWg",
        "colab": {
          "base_uri": "https://localhost:8080/"
        },
        "outputId": "136470ca-9e13-45fb-b525-1a27f6ec7900"
      },
      "execution_count": null,
      "outputs": [
        {
          "output_type": "stream",
          "name": "stdout",
          "text": [
            "Learning Python!\n"
          ]
        }
      ]
    },
    {
      "cell_type": "markdown",
      "source": [
        "#### Exercise 2 - Manipulating Variables\n",
        "Declare one variable of each type and display its type using the type() function."
      ],
      "metadata": {
        "id": "WWuT4z0DorSQ"
      }
    },
    {
      "cell_type": "code",
      "source": [
        "integer = 6\n",
        "integer = str(6)\n",
        "decimal = 3.14\n",
        "string = \"Hello, world\"\n",
        "boolean = True\n",
        "\n",
        "print(type(integer))\n",
        "print(type(decimal))\n",
        "print(type(string))\n",
        "print(type(boolean))"
      ],
      "metadata": {
        "id": "vgruzpSeoxM9",
        "colab": {
          "base_uri": "https://localhost:8080/"
        },
        "outputId": "29707c22-a03a-4a7c-f006-622995182188"
      },
      "execution_count": null,
      "outputs": [
        {
          "output_type": "stream",
          "name": "stdout",
          "text": [
            "<class 'str'>\n",
            "<class 'float'>\n",
            "<class 'str'>\n",
            "<class 'bool'>\n"
          ]
        }
      ]
    },
    {
      "cell_type": "markdown",
      "source": [
        "### Part 4: Basic Operators (30 minutes)"
      ],
      "metadata": {
        "id": "4Hy6ZJxnpaFk"
      }
    },
    {
      "cell_type": "markdown",
      "source": [
        "#### Theory - Operators in Python"
      ],
      "metadata": {
        "id": "-j80k1gWpgLA"
      }
    },
    {
      "cell_type": "markdown",
      "source": [
        "##### Basic Operators Operators allow you to perform operations on variables and values:\n",
        "\n",
        "- **Arithmetic operators:** `+`, `-`, `*`, `/`, `**`, `//`, `%` (Modulo Operator)\n",
        "\n",
        "- **Assignment operators:** `=`, `+=`, `-=`\n",
        "\n",
        "- **Comparison operators:** `==`, `!=`, `>`, `<`, `>=`, `<=`"
      ],
      "metadata": {
        "id": "ocwPQ8P-pkBh"
      }
    },
    {
      "cell_type": "code",
      "source": [
        "5 / 2"
      ],
      "metadata": {
        "colab": {
          "base_uri": "https://localhost:8080/"
        },
        "id": "ozJakicdxXzd",
        "outputId": "d2f6b334-ab4b-40a2-8ea5-db335fa56d08"
      },
      "execution_count": null,
      "outputs": [
        {
          "output_type": "execute_result",
          "data": {
            "text/plain": [
              "2.5"
            ]
          },
          "metadata": {},
          "execution_count": 11
        }
      ]
    },
    {
      "cell_type": "markdown",
      "source": [
        "#### Exercise - Using Operators\n",
        "Exercise: Perform basic operations using different types of operators. One of each.\n"
      ],
      "metadata": {
        "id": "YEMDAioDpwMy"
      }
    },
    {
      "cell_type": "code",
      "source": [
        "number = 10\n",
        "number = number +(5/3)\n",
        "number += 5\n",
        "\n",
        "print(\"Result of number is:\", number)\n",
        "print(\"Is number equal to 15?:\", number == 15)\n",
        "x = 3\n",
        "y = 2\n",
        "if x+(y*5) == 5 :\n",
        "  print('Hi')\n",
        "else:\n",
        "  print('no')"
      ],
      "metadata": {
        "colab": {
          "base_uri": "https://localhost:8080/"
        },
        "id": "BT25_LzmpvGW",
        "outputId": "09a26daf-0646-4a46-8dac-0edf2cb57840"
      },
      "execution_count": null,
      "outputs": [
        {
          "output_type": "stream",
          "name": "stdout",
          "text": [
            "Result of number is: 16.666666666666664\n",
            "Is number equal to 15?: False\n",
            "no\n"
          ]
        }
      ]
    },
    {
      "cell_type": "code",
      "source": [
        "#x = \"16.66667\"\n",
        "#x = float(x)\n",
        "#x = int(x)\n",
        "print(x)"
      ],
      "metadata": {
        "colab": {
          "base_uri": "https://localhost:8080/"
        },
        "id": "NQfCm2QH2-ly",
        "outputId": "1d23eda2-a635-451b-a802-551caa3f9538"
      },
      "execution_count": null,
      "outputs": [
        {
          "output_type": "stream",
          "name": "stdout",
          "text": [
            "12\n"
          ]
        }
      ]
    },
    {
      "cell_type": "markdown",
      "source": [
        "##### How can I leave number as an integer?"
      ],
      "metadata": {
        "id": "ECZ7Cfe8r7dD"
      }
    },
    {
      "cell_type": "code",
      "source": [
        "#Option 1:\n",
        "number = 10\n",
        "number = int((number + 5)/3)\n",
        "number += 5\n",
        "\n",
        "print(\"Result of number is:\", number)\n",
        "print(\"Is number equal to 15?:\", number == 10)"
      ],
      "metadata": {
        "colab": {
          "base_uri": "https://localhost:8080/"
        },
        "id": "0Zo6FzUgqSXo",
        "outputId": "4e829dc4-676a-4144-801c-db994db0a5d9"
      },
      "execution_count": null,
      "outputs": [
        {
          "output_type": "stream",
          "name": "stdout",
          "text": [
            "Result of number is: 10\n",
            "Is number equal to 15?: True\n"
          ]
        }
      ]
    },
    {
      "cell_type": "code",
      "source": [
        "#Option 2:\n",
        "number = 10\n",
        "number = (number + 5)//3\n",
        "number += 5\n",
        "\n",
        "print(\"Result of number is:\", number)\n",
        "print(\"Is number equal to 15?:\", number == 10)"
      ],
      "metadata": {
        "colab": {
          "base_uri": "https://localhost:8080/"
        },
        "id": "oltbdFKGsCuT",
        "outputId": "576d660c-e806-4fd7-e217-a076fd21640f"
      },
      "execution_count": null,
      "outputs": [
        {
          "output_type": "stream",
          "name": "stdout",
          "text": [
            "Result of number is: 10\n",
            "Is number equal to 15?: True\n"
          ]
        }
      ]
    },
    {
      "cell_type": "code",
      "source": [
        "x = input('Give a number: ')"
      ],
      "metadata": {
        "colab": {
          "base_uri": "https://localhost:8080/"
        },
        "id": "w4DLkUjm4cm2",
        "outputId": "9a51b066-a08f-467d-89cb-73f59087196a"
      },
      "execution_count": null,
      "outputs": [
        {
          "name": "stdout",
          "output_type": "stream",
          "text": [
            "Give a number: 12\n"
          ]
        }
      ]
    },
    {
      "cell_type": "markdown",
      "source": [
        "#### Exercise - Using input()\n",
        "Use input to receive a number from a user, multiply it by 2, and display the result."
      ],
      "metadata": {
        "id": "cdkp-XLJtSkt"
      }
    },
    {
      "cell_type": "code",
      "source": [
        "user_number = input('Enter a number: ')\n",
        "a = input()\n",
        "\n",
        "result = float(user_number) * 2\n",
        "print(\"Double your number is:\", result)"
      ],
      "metadata": {
        "id": "FWuulXlDtkZM",
        "colab": {
          "base_uri": "https://localhost:8080/"
        },
        "outputId": "c2a44e8a-6827-491e-e05a-6d8be0b338a4"
      },
      "execution_count": null,
      "outputs": [
        {
          "output_type": "stream",
          "name": "stdout",
          "text": [
            "Enter a number: 78.9\n",
            "Double your number is: 157.8\n"
          ]
        }
      ]
    },
    {
      "cell_type": "markdown",
      "source": [
        "#### Printing multiple variables with f-string"
      ],
      "metadata": {
        "id": "nP-l-HN01hmr"
      }
    },
    {
      "cell_type": "markdown",
      "source": [
        "* What is string formatting?\n",
        "\n",
        "String formatting is attractively designing your string using formatting techniques provided by the particular programming language.\n",
        "We have different string formatting techniques in Python. We are now going to explore the new f-string formatting technique.\n",
        "\n",
        "f-string evaluates at runtime of the program and has an easy syntax:\n",
        "\n",
        "print(f\" I'm learning to code in {coding_language} and later I would also like to learn {codingLanguage2}\")"
      ],
      "metadata": {
        "id": "G01dUTW71ni5"
      }
    },
    {
      "cell_type": "markdown",
      "source": [
        "##### Exercise - Print with f-string"
      ],
      "metadata": {
        "id": "yLJQ9DZT25ls"
      }
    },
    {
      "cell_type": "code",
      "source": [
        "coding_language = 'Python'\n",
        "codingLanguage2 = 'Java'\n",
        "printing = f\" I'm learning to code in {coding_language} and later I would also like to learn {codingLanguage2}\"\n",
        "print(f\" I'm learning to code in {coding_language} and later I would also like to learn {codingLanguage2}\")\n",
        "print(printing)"
      ],
      "metadata": {
        "id": "40VEODbo1gtM",
        "colab": {
          "base_uri": "https://localhost:8080/"
        },
        "outputId": "73771536-6c5a-4840-9889-269a4ee46547"
      },
      "execution_count": null,
      "outputs": [
        {
          "output_type": "stream",
          "name": "stdout",
          "text": [
            " I'm learning to code in Python and later I would also like to learn Java\n",
            " I'm learning to code in Python and later I would also like to learn Java\n"
          ]
        }
      ]
    },
    {
      "cell_type": "code",
      "source": [
        "nationality = input('nationality')"
      ],
      "metadata": {
        "colab": {
          "base_uri": "https://localhost:8080/"
        },
        "id": "xRtA1wxb_h24",
        "outputId": "f36222e3-5f1a-42d4-d32a-9602d8b7e355"
      },
      "execution_count": null,
      "outputs": [
        {
          "name": "stdout",
          "output_type": "stream",
          "text": [
            "nationality13fas\n"
          ]
        }
      ]
    },
    {
      "cell_type": "code",
      "source": [],
      "metadata": {
        "id": "CS8qRG6-_osU"
      },
      "execution_count": null,
      "outputs": []
    },
    {
      "cell_type": "markdown",
      "source": [
        "### Extra"
      ],
      "metadata": {
        "id": "63XsMCvJszHC"
      }
    },
    {
      "cell_type": "markdown",
      "source": [
        "##### Exercise: Extended Personal Information Summary\n",
        "** Objective: Modify the previous script to collect additional personal **information and utilize boolean expressions for simplified processing.\n",
        "Instructions:\n",
        "* Input Collection:\n",
        "** Prompt the user to enter their **name**.\n",
        "** Ask for the user's **age**.\n",
        "** Request the user's **nationality**.\n",
        "** Ask for the user's **height** in centimeters.\n",
        "** Ask if they are a fan of FC Barcelona with a \"True\" or \"False\" response, using a boolean expression.\n",
        "\n",
        "* Output Message:\n",
        "** Construct a message that includes all the collected information in a friendly format.\n",
        "** The message should say: \"My name is [name], I’m [age] years old, from [nationality], I am [height] meters tall, and it is definitely [barca_fan] that I’m a Barça fan.\"\n",
        "\n",
        "* Tasks:\n",
        "** Use `input()` to gather all necessary details.\n",
        "** Convert the age to an integer and height to a float.\n",
        "** Use a boolean expression to convert the fan statement to a boolean value directly.\n",
        "** Print the summary with all collected details."
      ],
      "metadata": {
        "id": "3fK7OPiUtEkd"
      }
    },
    {
      "cell_type": "markdown",
      "source": [
        "##### Solution"
      ],
      "metadata": {
        "id": "TRoC7ur23kzY"
      }
    },
    {
      "cell_type": "code",
      "source": [
        "# Collecting user information\n",
        "# add answer here"
      ],
      "metadata": {
        "id": "L7Yxi4BVs1B_"
      },
      "execution_count": null,
      "outputs": []
    },
    {
      "cell_type": "code",
      "source": [
        "# Creating the summary message\n",
        "# add answer here"
      ],
      "metadata": {
        "id": "epYCWQsus-Ms"
      },
      "execution_count": null,
      "outputs": []
    },
    {
      "cell_type": "code",
      "source": [
        "# Printing the summary message\n",
        "# add answer here"
      ],
      "metadata": {
        "id": "A4qeVAAGy4J8"
      },
      "execution_count": null,
      "outputs": []
    },
    {
      "cell_type": "markdown",
      "source": [
        "##### How to make sure it is a valid response?"
      ],
      "metadata": {
        "id": "yOlGTSEl0g4u"
      }
    },
    {
      "cell_type": "code",
      "source": [
        "# while loop to make sure user provide a valid response\n",
        "while True:\n",
        "    try:\n",
        "        age = int(input(\"Please enter your age: \"))\n",
        "    except ValueError:\n",
        "        print(\"Sorry, provide a valid integer of your age\")\n",
        "        continue\n",
        "    else:\n",
        "        break\n",
        "\n",
        "# if loop to check if they can vote\n",
        "if age >= 18:\n",
        "    print(\"You are able to vote!\")\n",
        "else:\n",
        "    print(\"You are not able to vote\")"
      ],
      "metadata": {
        "id": "9aDP4lUfzIxc",
        "colab": {
          "base_uri": "https://localhost:8080/"
        },
        "outputId": "1434f9e2-0b07-4b53-d402-08d81f96d5a6"
      },
      "execution_count": null,
      "outputs": [
        {
          "output_type": "stream",
          "name": "stdout",
          "text": [
            "Please enter your age: 43\n",
            "You are able to vote!\n"
          ]
        }
      ]
    }
  ]
}
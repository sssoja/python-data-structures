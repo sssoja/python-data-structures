{
  "nbformat": 4,
  "nbformat_minor": 0,
  "metadata": {
    "colab": {
      "provenance": [],
      "collapsed_sections": [
        "jo1EMEHD7SGT",
        "8TGsyzsT7kV1",
        "zFR3qA4x7pFT",
        "klHdesdx7srN",
        "uqtGqKA57v4Y",
        "19lSSDrZ71VI",
        "4pMTaaWx8fA6",
        "JGkLpcXt9rlO",
        "q84SmXKO-Ecq",
        "F5DDsf99QIOy",
        "sdZ_oWIplj6D",
        "S5AIcLSsuB3K",
        "tnH0oZ4VmVwN",
        "3Sag70dUJ-pt",
        "RWv2a9BFvsEq",
        "6TVdllUvm9bA",
        "JqZIxaNyxhBQ",
        "cF5S1qv91UEn",
        "j_5W4JFD1jL7",
        "f31Hv2lp13od",
        "mHSBYKtC2NsM",
        "KWvCXlL54Xby",
        "Fv5wKqab5Sfp"
      ],
      "include_colab_link": true
    },
    "kernelspec": {
      "name": "python3",
      "display_name": "Python 3"
    },
    "language_info": {
      "name": "python"
    }
  },
  "cells": [
    {
      "cell_type": "markdown",
      "metadata": {
        "id": "view-in-github",
        "colab_type": "text"
      },
      "source": [
        "<a href=\"https://colab.research.google.com/github/sssoja/python-intro/blob/main/Session3_students.ipynb\" target=\"_parent\"><img src=\"https://colab.research.google.com/assets/colab-badge.svg\" alt=\"Open In Colab\"/></a>"
      ]
    },
    {
      "cell_type": "markdown",
      "source": [
        "\n",
        "\n",
        "# Session 3: Flow Control\n",
        "## Rodrigo Careaga\n",
        "###  11/May/2024\n"
      ],
      "metadata": {
        "id": "MWbMmOAwPmFt"
      }
    },
    {
      "cell_type": "markdown",
      "source": [
        "### Checking test answers:"
      ],
      "metadata": {
        "id": "jo1EMEHD7SGT"
      }
    },
    {
      "cell_type": "markdown",
      "source": [
        "#####What does the `append()` method do to a list in Python?"
      ],
      "metadata": {
        "id": "8TGsyzsT7kV1"
      }
    },
    {
      "cell_type": "code",
      "source": [
        "clothes = ['tenis', 'sweater','t-shirt']"
      ],
      "metadata": {
        "id": "Smg7Z8sTAjrb"
      },
      "execution_count": null,
      "outputs": []
    },
    {
      "cell_type": "code",
      "source": [
        "clothes.append('hola')\n",
        "print(clothes)"
      ],
      "metadata": {
        "colab": {
          "base_uri": "https://localhost:8080/"
        },
        "id": "mwO69LHmAhl0",
        "outputId": "5869c1d9-4071-4d4e-a199-e1bac441ad2a"
      },
      "execution_count": null,
      "outputs": [
        {
          "output_type": "stream",
          "name": "stdout",
          "text": [
            "['tenis', 'sweater', 't-shirt', 'hola']\n"
          ]
        }
      ]
    },
    {
      "cell_type": "code",
      "source": [
        "clothes.insert(0,'hola')\n",
        "print(clothes)"
      ],
      "metadata": {
        "id": "P2_fvhAM7Xpy"
      },
      "execution_count": null,
      "outputs": []
    },
    {
      "cell_type": "markdown",
      "source": [
        "##### How do you remove an item from a list by index in Python?"
      ],
      "metadata": {
        "id": "zFR3qA4x7pFT"
      }
    },
    {
      "cell_type": "code",
      "source": [
        "clothes = ['tenis', 'sweater','t-shirt']"
      ],
      "metadata": {
        "id": "iKgeGywd7Xl2"
      },
      "execution_count": null,
      "outputs": []
    },
    {
      "cell_type": "code",
      "source": [
        "clothes.remove(1)"
      ],
      "metadata": {
        "id": "eM06J3Nx_iys"
      },
      "execution_count": null,
      "outputs": []
    },
    {
      "cell_type": "code",
      "source": [
        "clothes.delete(-2)"
      ],
      "metadata": {
        "id": "2XQ6eUv8_ijl"
      },
      "execution_count": null,
      "outputs": []
    },
    {
      "cell_type": "code",
      "source": [
        "clothes.pop(-2)\n",
        "print(clothes)"
      ],
      "metadata": {
        "id": "hcE2zPkq_iSi"
      },
      "execution_count": null,
      "outputs": []
    },
    {
      "cell_type": "code",
      "source": [
        "clothes.discard(-2)"
      ],
      "metadata": {
        "id": "jhCFsOo1_h3S"
      },
      "execution_count": null,
      "outputs": []
    },
    {
      "cell_type": "markdown",
      "source": [
        "##### Which method would you use to find the position of an item in a list?"
      ],
      "metadata": {
        "id": "klHdesdx7srN"
      }
    },
    {
      "cell_type": "code",
      "source": [
        "clothes = ['tenis', 'sweater','t-shirt']\n",
        "print(clothes.index('t-shirt'))"
      ],
      "metadata": {
        "colab": {
          "base_uri": "https://localhost:8080/"
        },
        "id": "m57BilPe7Xi_",
        "outputId": "224aa2a4-428e-4759-e0d6-b62dec4d0afc"
      },
      "execution_count": null,
      "outputs": [
        {
          "output_type": "stream",
          "name": "stdout",
          "text": [
            "2\n"
          ]
        }
      ]
    },
    {
      "cell_type": "markdown",
      "source": [
        "#####In Python, what does the `items()` method in a dictionary return?"
      ],
      "metadata": {
        "id": "uqtGqKA57v4Y"
      }
    },
    {
      "cell_type": "code",
      "source": [
        "d = {'key1': 'value1', 'key2': 'value2'}\n",
        "print(d.items())"
      ],
      "metadata": {
        "colab": {
          "base_uri": "https://localhost:8080/"
        },
        "id": "ZQ1AMDlU7XgH",
        "outputId": "b1147709-adeb-454f-d0ca-96a9daec6b2d"
      },
      "execution_count": null,
      "outputs": [
        {
          "output_type": "stream",
          "name": "stdout",
          "text": [
            "dict_items([('key1', 'value1'), ('key2', 'value2')])\n"
          ]
        }
      ]
    },
    {
      "cell_type": "markdown",
      "source": [
        "Answer: A list of tuples, each containing a key and a value"
      ],
      "metadata": {
        "id": "RABUavGi-53U"
      }
    },
    {
      "cell_type": "markdown",
      "source": [
        "##### Which of the following creates a dictionary correctly in Python?"
      ],
      "metadata": {
        "id": "19lSSDrZ71VI"
      }
    },
    {
      "cell_type": "code",
      "source": [
        "d = {'key1': 'value1', 'key2': 'value2'}\n",
        "type(d)"
      ],
      "metadata": {
        "colab": {
          "base_uri": "https://localhost:8080/"
        },
        "id": "EFoFQFpv7XOR",
        "outputId": "e0e851a6-39a7-4f7c-caf4-4ce7582ee2a6"
      },
      "execution_count": null,
      "outputs": [
        {
          "output_type": "execute_result",
          "data": {
            "text/plain": [
              "dict"
            ]
          },
          "metadata": {},
          "execution_count": 99
        }
      ]
    },
    {
      "cell_type": "code",
      "source": [
        "d = ['key1': 'value1', 'key2': 'value2']"
      ],
      "metadata": {
        "colab": {
          "base_uri": "https://localhost:8080/",
          "height": 124
        },
        "id": "w6B7bH5677g5",
        "outputId": "c11062c5-77e9-467a-c50b-1b23da4dc0dd"
      },
      "execution_count": null,
      "outputs": [
        {
          "output_type": "error",
          "ename": "SyntaxError",
          "evalue": "invalid syntax (<ipython-input-65-2cbc0d61abe8>, line 1)",
          "traceback": [
            "\u001b[0;36m  File \u001b[0;32m\"<ipython-input-65-2cbc0d61abe8>\"\u001b[0;36m, line \u001b[0;32m1\u001b[0m\n\u001b[0;31m    d = ['key1': 'value1', 'key2': 'value2']\u001b[0m\n\u001b[0m               ^\u001b[0m\n\u001b[0;31mSyntaxError\u001b[0m\u001b[0;31m:\u001b[0m invalid syntax\n"
          ]
        }
      ]
    },
    {
      "cell_type": "code",
      "source": [
        "d = ('key1': 'value1', 'key2': 'value2')"
      ],
      "metadata": {
        "colab": {
          "base_uri": "https://localhost:8080/",
          "height": 124
        },
        "id": "4I7iyW3l78AY",
        "outputId": "f5931469-2172-4051-f823-ae1b2323ece1"
      },
      "execution_count": null,
      "outputs": [
        {
          "output_type": "error",
          "ename": "SyntaxError",
          "evalue": "invalid syntax (<ipython-input-66-ad728177e582>, line 1)",
          "traceback": [
            "\u001b[0;36m  File \u001b[0;32m\"<ipython-input-66-ad728177e582>\"\u001b[0;36m, line \u001b[0;32m1\u001b[0m\n\u001b[0;31m    d = ('key1': 'value1', 'key2': 'value2')\u001b[0m\n\u001b[0m               ^\u001b[0m\n\u001b[0;31mSyntaxError\u001b[0m\u001b[0;31m:\u001b[0m invalid syntax\n"
          ]
        }
      ]
    },
    {
      "cell_type": "code",
      "source": [
        "d = {'key1', 'value1', 'key2', 'value2'}\n",
        "type(d)"
      ],
      "metadata": {
        "colab": {
          "base_uri": "https://localhost:8080/"
        },
        "id": "ii_xFD777772",
        "outputId": "b6dabe2a-9750-4785-93f1-a5662ca06d73"
      },
      "execution_count": null,
      "outputs": [
        {
          "output_type": "execute_result",
          "data": {
            "text/plain": [
              "set"
            ]
          },
          "metadata": {},
          "execution_count": 69
        }
      ]
    },
    {
      "cell_type": "markdown",
      "source": [
        "##### How can you create a new list that contains all elements from list `a` and `b`?"
      ],
      "metadata": {
        "id": "4pMTaaWx8fA6"
      }
    },
    {
      "cell_type": "code",
      "source": [
        "a = [1,2,3,4,5,6]\n",
        "b = [5,6,7,8,9,3]"
      ],
      "metadata": {
        "id": "GAveBUcM8ilN"
      },
      "execution_count": null,
      "outputs": []
    },
    {
      "cell_type": "code",
      "source": [
        "c = a.append(b)\n",
        "print(c)"
      ],
      "metadata": {
        "colab": {
          "base_uri": "https://localhost:8080/"
        },
        "id": "e2aIlpBg9T6s",
        "outputId": "afa14a07-0f5d-4c11-cf2c-b51b0702ed8a"
      },
      "execution_count": null,
      "outputs": [
        {
          "output_type": "stream",
          "name": "stdout",
          "text": [
            "None\n"
          ]
        }
      ]
    },
    {
      "cell_type": "code",
      "source": [
        "c = a.extend(b)\n",
        "print(c)"
      ],
      "metadata": {
        "colab": {
          "base_uri": "https://localhost:8080/"
        },
        "id": "f-t2c8Y79c9A",
        "outputId": "661f4f7b-1ea8-413a-885a-4040f7e952f9"
      },
      "execution_count": null,
      "outputs": [
        {
          "output_type": "stream",
          "name": "stdout",
          "text": [
            "None\n"
          ]
        }
      ]
    },
    {
      "cell_type": "code",
      "source": [
        "c = a.update(b)\n",
        "print(c)"
      ],
      "metadata": {
        "colab": {
          "base_uri": "https://localhost:8080/",
          "height": 175
        },
        "id": "cE5SmWFh9gQi",
        "outputId": "8a8d64a3-b365-47fc-970e-b854bf38b68d"
      },
      "execution_count": null,
      "outputs": [
        {
          "output_type": "error",
          "ename": "AttributeError",
          "evalue": "'list' object has no attribute 'update'",
          "traceback": [
            "\u001b[0;31m---------------------------------------------------------------------------\u001b[0m",
            "\u001b[0;31mAttributeError\u001b[0m                            Traceback (most recent call last)",
            "\u001b[0;32m<ipython-input-94-ad4ed37e876b>\u001b[0m in \u001b[0;36m<cell line: 1>\u001b[0;34m()\u001b[0m\n\u001b[0;32m----> 1\u001b[0;31m \u001b[0mc\u001b[0m \u001b[0;34m=\u001b[0m \u001b[0ma\u001b[0m\u001b[0;34m.\u001b[0m\u001b[0mupdate\u001b[0m\u001b[0;34m(\u001b[0m\u001b[0mb\u001b[0m\u001b[0;34m)\u001b[0m\u001b[0;34m\u001b[0m\u001b[0;34m\u001b[0m\u001b[0m\n\u001b[0m\u001b[1;32m      2\u001b[0m \u001b[0mprint\u001b[0m\u001b[0;34m(\u001b[0m\u001b[0mc\u001b[0m\u001b[0;34m)\u001b[0m\u001b[0;34m\u001b[0m\u001b[0;34m\u001b[0m\u001b[0m\n",
            "\u001b[0;31mAttributeError\u001b[0m: 'list' object has no attribute 'update'"
          ]
        }
      ]
    },
    {
      "cell_type": "code",
      "source": [
        "c = a + b\n",
        "print(c)\n",
        "\n",
        "a.pop()\n",
        "print(a)\n",
        "print(c)"
      ],
      "metadata": {
        "colab": {
          "base_uri": "https://localhost:8080/"
        },
        "id": "_jSKFV5U8g2S",
        "outputId": "afd3f5ea-1d1b-4dd4-b694-0ad1f6f26da5"
      },
      "execution_count": null,
      "outputs": [
        {
          "output_type": "stream",
          "name": "stdout",
          "text": [
            "[1, 2, 3, 4, 5, 6, 5, 6, 7, 8, 9, 3]\n",
            "[1, 2, 3, 4, 5]\n",
            "[1, 2, 3, 4, 5, 6, 5, 6, 7, 8, 9, 3]\n"
          ]
        }
      ]
    },
    {
      "cell_type": "markdown",
      "source": [
        "##### What is the correct way to print each element in the list [1, 2, 3, 4] using a for loop?"
      ],
      "metadata": {
        "id": "JGkLpcXt9rlO"
      }
    },
    {
      "cell_type": "code",
      "source": [
        "for i in [1, 2, 3, 4]:\n",
        "  print(i)"
      ],
      "metadata": {
        "colab": {
          "base_uri": "https://localhost:8080/"
        },
        "id": "IMVSna6q9xLz",
        "outputId": "042b2c94-d17c-4dcf-b01e-cdddaef618c2"
      },
      "execution_count": null,
      "outputs": [
        {
          "output_type": "stream",
          "name": "stdout",
          "text": [
            "1\n",
            "2\n",
            "3\n",
            "4\n"
          ]
        }
      ]
    },
    {
      "cell_type": "code",
      "source": [
        "for i in range(1, 5):\n",
        "  print(i)"
      ],
      "metadata": {
        "colab": {
          "base_uri": "https://localhost:8080/"
        },
        "id": "KmgD9dNz9zOs",
        "outputId": "a46c0cc6-1de0-45f3-82c9-3d33e523410b"
      },
      "execution_count": null,
      "outputs": [
        {
          "output_type": "stream",
          "name": "stdout",
          "text": [
            "1\n",
            "2\n",
            "3\n",
            "4\n"
          ]
        }
      ]
    },
    {
      "cell_type": "code",
      "source": [
        "for i in len([1, 2, 3, 4]):\n",
        "  print(i)"
      ],
      "metadata": {
        "colab": {
          "base_uri": "https://localhost:8080/",
          "height": 175
        },
        "id": "x05D4kFd91T5",
        "outputId": "268f5b9a-67cc-43f0-befa-b15db627ac2c"
      },
      "execution_count": null,
      "outputs": [
        {
          "output_type": "error",
          "ename": "TypeError",
          "evalue": "'int' object is not iterable",
          "traceback": [
            "\u001b[0;31m---------------------------------------------------------------------------\u001b[0m",
            "\u001b[0;31mTypeError\u001b[0m                                 Traceback (most recent call last)",
            "\u001b[0;32m<ipython-input-97-371ac066ca31>\u001b[0m in \u001b[0;36m<cell line: 1>\u001b[0;34m()\u001b[0m\n\u001b[0;32m----> 1\u001b[0;31m \u001b[0;32mfor\u001b[0m \u001b[0mi\u001b[0m \u001b[0;32min\u001b[0m \u001b[0mlen\u001b[0m\u001b[0;34m(\u001b[0m\u001b[0;34m[\u001b[0m\u001b[0;36m1\u001b[0m\u001b[0;34m,\u001b[0m \u001b[0;36m2\u001b[0m\u001b[0;34m,\u001b[0m \u001b[0;36m3\u001b[0m\u001b[0;34m,\u001b[0m \u001b[0;36m4\u001b[0m\u001b[0;34m]\u001b[0m\u001b[0;34m)\u001b[0m\u001b[0;34m:\u001b[0m\u001b[0;34m\u001b[0m\u001b[0;34m\u001b[0m\u001b[0m\n\u001b[0m\u001b[1;32m      2\u001b[0m   \u001b[0mprint\u001b[0m\u001b[0;34m(\u001b[0m\u001b[0mi\u001b[0m\u001b[0;34m)\u001b[0m\u001b[0;34m\u001b[0m\u001b[0;34m\u001b[0m\u001b[0m\n",
            "\u001b[0;31mTypeError\u001b[0m: 'int' object is not iterable"
          ]
        }
      ]
    },
    {
      "cell_type": "code",
      "source": [
        "for i in [1, 2, 3, 4]:\n",
        "  print([i])"
      ],
      "metadata": {
        "colab": {
          "base_uri": "https://localhost:8080/"
        },
        "id": "0vLfQhGX92sK",
        "outputId": "e92e7c49-fc95-48b1-eaad-fd4e7fd71b6e"
      },
      "execution_count": null,
      "outputs": [
        {
          "output_type": "stream",
          "name": "stdout",
          "text": [
            "[1]\n",
            "[2]\n",
            "[3]\n",
            "[4]\n"
          ]
        }
      ]
    },
    {
      "cell_type": "markdown",
      "source": [
        "##### Which for loop correctly iterates over a dictionary d = {'a': 1, 'b': 2} to print its keys and values?"
      ],
      "metadata": {
        "id": "q84SmXKO-Ecq"
      }
    },
    {
      "cell_type": "code",
      "source": [
        "d = {'key1': 'value1', 'key2': 'value2'}"
      ],
      "metadata": {
        "id": "EEl7Nrnb-gDl"
      },
      "execution_count": null,
      "outputs": []
    },
    {
      "cell_type": "code",
      "source": [
        "for key in d:\n",
        "  print(key, d[key])"
      ],
      "metadata": {
        "colab": {
          "base_uri": "https://localhost:8080/"
        },
        "id": "HiNedpUZ-D9y",
        "outputId": "59c4c92a-0852-4877-b71a-b27c1667625d"
      },
      "execution_count": null,
      "outputs": [
        {
          "output_type": "stream",
          "name": "stdout",
          "text": [
            "key1 value1\n",
            "key2 value2\n"
          ]
        }
      ]
    },
    {
      "cell_type": "code",
      "source": [
        "for key, value in d:\n",
        "  print(key, value)"
      ],
      "metadata": {
        "colab": {
          "base_uri": "https://localhost:8080/",
          "height": 175
        },
        "id": "OnDsGoGU-NFS",
        "outputId": "da8a8b2f-6044-4816-9051-cec9d0a5ab87"
      },
      "execution_count": null,
      "outputs": [
        {
          "output_type": "error",
          "ename": "ValueError",
          "evalue": "too many values to unpack (expected 2)",
          "traceback": [
            "\u001b[0;31m---------------------------------------------------------------------------\u001b[0m",
            "\u001b[0;31mValueError\u001b[0m                                Traceback (most recent call last)",
            "\u001b[0;32m<ipython-input-101-5b7063867629>\u001b[0m in \u001b[0;36m<cell line: 1>\u001b[0;34m()\u001b[0m\n\u001b[0;32m----> 1\u001b[0;31m \u001b[0;32mfor\u001b[0m \u001b[0mkey\u001b[0m\u001b[0;34m,\u001b[0m \u001b[0mvalue\u001b[0m \u001b[0;32min\u001b[0m \u001b[0md\u001b[0m\u001b[0;34m:\u001b[0m\u001b[0;34m\u001b[0m\u001b[0;34m\u001b[0m\u001b[0m\n\u001b[0m\u001b[1;32m      2\u001b[0m   \u001b[0mprint\u001b[0m\u001b[0;34m(\u001b[0m\u001b[0mkey\u001b[0m\u001b[0;34m,\u001b[0m \u001b[0mvalue\u001b[0m\u001b[0;34m)\u001b[0m\u001b[0;34m\u001b[0m\u001b[0;34m\u001b[0m\u001b[0m\n",
            "\u001b[0;31mValueError\u001b[0m: too many values to unpack (expected 2)"
          ]
        }
      ]
    },
    {
      "cell_type": "code",
      "source": [
        "for key in d.keys():\n",
        "  print(key)"
      ],
      "metadata": {
        "colab": {
          "base_uri": "https://localhost:8080/"
        },
        "id": "ZNvODR2k-PM9",
        "outputId": "81f589ba-6c6c-4cf8-a019-3689774b588e"
      },
      "execution_count": null,
      "outputs": [
        {
          "output_type": "stream",
          "name": "stdout",
          "text": [
            "key1\n",
            "key2\n"
          ]
        }
      ]
    },
    {
      "cell_type": "code",
      "source": [
        "for key, value in d.items():\n",
        "  print(key)"
      ],
      "metadata": {
        "colab": {
          "base_uri": "https://localhost:8080/"
        },
        "id": "o4qNCqcr-QT2",
        "outputId": "962d709c-13cb-4cf5-e943-d3176b5f65e3"
      },
      "execution_count": null,
      "outputs": [
        {
          "output_type": "stream",
          "name": "stdout",
          "text": [
            "key1\n",
            "key2\n"
          ]
        }
      ]
    },
    {
      "cell_type": "markdown",
      "source": [
        "### Part 1: Introduction to Loops"
      ],
      "metadata": {
        "id": "F5DDsf99QIOy"
      }
    },
    {
      "cell_type": "markdown",
      "source": [
        "Loops are fundamental to programming because they allow us to repeat a block of code multiple times, which is essential for tasks that require repetitive actions. Python supports several types of loops, primarily `for` and `while`.\n"
      ],
      "metadata": {
        "id": "hc57O0uBSW-P"
      }
    },
    {
      "cell_type": "markdown",
      "source": [
        "The `for` loop in Python is used to iterate over a sequence (such as a list, tuple, string) or other iterable objects. Iterating over a sequence is called traversal."
      ],
      "metadata": {
        "id": "dZx3R02Tkq0K"
      }
    },
    {
      "cell_type": "markdown",
      "source": [
        "####  The `for` Loop with `range()`"
      ],
      "metadata": {
        "id": "sdZ_oWIplj6D"
      }
    },
    {
      "cell_type": "code",
      "source": [
        "# Example of `for` Loop with `range()`\n",
        "for i in range(5):\n",
        "  print(i)"
      ],
      "metadata": {
        "id": "RJ8abPeqh4-0"
      },
      "execution_count": null,
      "outputs": []
    },
    {
      "cell_type": "markdown",
      "source": [
        "#### Exercise - `for` Loop Over a List"
      ],
      "metadata": {
        "id": "S5AIcLSsuB3K"
      }
    },
    {
      "cell_type": "code",
      "source": [
        "# Exercise: Print each item in the following list using a for loop.\n",
        "fruits = [\"apple\", \"banana\", \"cherry\"]\n",
        "for x in fruits:\n",
        "  print(x)"
      ],
      "metadata": {
        "id": "T4QWwLsSt5YY",
        "colab": {
          "base_uri": "https://localhost:8080/"
        },
        "outputId": "62eb60f1-39a4-4d45-812d-bbaafdd7c130"
      },
      "execution_count": null,
      "outputs": [
        {
          "output_type": "stream",
          "name": "stdout",
          "text": [
            "apple\n",
            "banana\n",
            "cherry\n"
          ]
        }
      ]
    },
    {
      "cell_type": "markdown",
      "source": [
        "### Part 2: The `while` Loop\n"
      ],
      "metadata": {
        "id": "tnH0oZ4VmVwN"
      }
    },
    {
      "cell_type": "markdown",
      "source": [
        "##### Introduction to `while` Loops"
      ],
      "metadata": {
        "id": "OJMVH3sImd0m"
      }
    },
    {
      "cell_type": "markdown",
      "source": [
        "A `while` loop in Python repeats a block of code as long as a certain condition is true."
      ],
      "metadata": {
        "id": "g0diSB82umPp"
      }
    },
    {
      "cell_type": "markdown",
      "source": [
        "#### Example of `while` Loop"
      ],
      "metadata": {
        "id": "mofjQ-2nuriN"
      }
    },
    {
      "cell_type": "code",
      "source": [
        "# Example of `while` loop\n",
        "count = 0\n",
        "\n",
        "while count < 3:\n",
        "  print(count)\n",
        "  count += 1\n",
        "\n",
        "print(f'final count: {count}')"
      ],
      "metadata": {
        "colab": {
          "base_uri": "https://localhost:8080/"
        },
        "id": "ufzC2fWeumAu",
        "outputId": "d7154efa-72b1-4b73-8e89-49b4b9e8c66c"
      },
      "execution_count": null,
      "outputs": [
        {
          "output_type": "stream",
          "name": "stdout",
          "text": [
            "0\n",
            "final count: 1\n",
            "1\n",
            "final count: 2\n",
            "2\n",
            "final count: 3\n"
          ]
        }
      ]
    },
    {
      "cell_type": "markdown",
      "source": [
        "#### Exercise - `while` Loop Control\n",
        "Write a `while` loop that starts at 10 and counts down to 0."
      ],
      "metadata": {
        "id": "8irt0lLLu54p"
      }
    },
    {
      "cell_type": "code",
      "source": [
        "counter = 10\n",
        "stop = False"
      ],
      "metadata": {
        "id": "lY20gICWpHpW"
      },
      "execution_count": null,
      "outputs": []
    },
    {
      "cell_type": "code",
      "source": [
        "while stop == False:\n",
        "  print(counter)\n",
        "  counter -= 1\n",
        "  stop = True"
      ],
      "metadata": {
        "colab": {
          "base_uri": "https://localhost:8080/"
        },
        "id": "hO0bpwV645JY",
        "outputId": "8c4430e1-4975-4317-83dd-06b83400b3f9"
      },
      "execution_count": null,
      "outputs": [
        {
          "output_type": "stream",
          "name": "stdout",
          "text": [
            "10\n"
          ]
        }
      ]
    },
    {
      "cell_type": "markdown",
      "source": [
        "### Part 3: Conditional Statements (`if`, `else`, `elif`)"
      ],
      "metadata": {
        "id": "3Sag70dUJ-pt"
      }
    },
    {
      "cell_type": "markdown",
      "source": [
        "#### Introduction to Conditional Statements"
      ],
      "metadata": {
        "id": "RWv2a9BFvsEq"
      }
    },
    {
      "cell_type": "markdown",
      "source": [
        "Conditional statements allow us to execute certain pieces of code depending on whether a condition is true or false."
      ],
      "metadata": {
        "id": "bLhLsEGZvxjj"
      }
    },
    {
      "cell_type": "markdown",
      "source": [
        "Example of `if-else` Statement"
      ],
      "metadata": {
        "id": "zvu_w-3Bv1xF"
      }
    },
    {
      "cell_type": "code",
      "source": [
        "# Example of `if-else` statement\n",
        "\n",
        "age = 17\n",
        "\n",
        "if age >= 18:\n",
        "  print(\"You are an adult.\")\n",
        "print('')"
      ],
      "metadata": {
        "id": "golUEPxDJ6oB"
      },
      "execution_count": null,
      "outputs": []
    },
    {
      "cell_type": "code",
      "source": [
        "age = 20\n",
        "status = \"You are an adult.\" if age >= 18 else \"You are not an adult.\"\n",
        "print(status)"
      ],
      "metadata": {
        "colab": {
          "base_uri": "https://localhost:8080/"
        },
        "id": "VVwDSgal6J7v",
        "outputId": "db85f708-919e-4bd0-a319-73bae4dab3a8"
      },
      "execution_count": null,
      "outputs": [
        {
          "output_type": "stream",
          "name": "stdout",
          "text": [
            "You are an adult.\n"
          ]
        }
      ]
    },
    {
      "cell_type": "markdown",
      "source": [
        "#### Exercise: Write an `if-elif-else` chain that prints \"child\" if age < 13, \"teen\" if age is between 13 and 19, and \"adult\" otherwise. Ask for input, remember the correct variable type.\n"
      ],
      "metadata": {
        "id": "NRpQboznwdo9"
      }
    },
    {
      "cell_type": "code",
      "source": [
        "age = 14\n",
        "\n",
        "if age < 13:\n",
        "  print(\"child\")\n",
        "elif age <= 19:\n",
        "  print(\"teen\")\n",
        "else:\n",
        "  print(\"adult\")"
      ],
      "metadata": {
        "colab": {
          "base_uri": "https://localhost:8080/"
        },
        "id": "eevPJEnRpFij",
        "outputId": "9feb1dee-b548-4f61-b48c-dbe2eb618ea1"
      },
      "execution_count": null,
      "outputs": [
        {
          "output_type": "stream",
          "name": "stdout",
          "text": [
            "teen\n"
          ]
        }
      ]
    },
    {
      "cell_type": "markdown",
      "source": [
        "### Part 4: Reinforcement Exercises"
      ],
      "metadata": {
        "id": "6TVdllUvm9bA"
      }
    },
    {
      "cell_type": "markdown",
      "source": [
        "#### Copying lists: How to copy a list without affecting the original list?"
      ],
      "metadata": {
        "id": "JqZIxaNyxhBQ"
      }
    },
    {
      "cell_type": "code",
      "source": [
        "#using .copy()\n",
        "\n",
        "odd_numbers = list(range(1,21,2))\n",
        "print(f'This are the odd numbers: {odd_numbers}')\n",
        "\n",
        "new_odd_numbers = odd_numbers.copy()\n",
        "print(f'This is a new list of the odd numbers: {new_odd_numbers}')\n",
        "\n",
        "new_odd_numbers.pop(-4)\n",
        "print(f'This are the odd numbers: {odd_numbers}')\n",
        "print(f'This is a new list of the odd numbers: {new_odd_numbers}')\n"
      ],
      "metadata": {
        "id": "zusCXulaxmsc",
        "colab": {
          "base_uri": "https://localhost:8080/"
        },
        "outputId": "4037b7a6-628e-47df-8785-c3fa9efb9de6"
      },
      "execution_count": null,
      "outputs": [
        {
          "output_type": "stream",
          "name": "stdout",
          "text": [
            "This are the odd numbers: [1, 3, 5, 7, 9, 11, 13, 15, 17, 19]\n",
            "This is a new list of the odd numbers: [1, 3, 5, 7, 9, 11, 13, 15, 17, 19]\n",
            "This are the odd numbers: [1, 3, 5, 7, 9, 11, 13, 15, 17, 19]\n",
            "This is a new list of the odd numbers: [1, 3, 5, 7, 9, 11, 15, 17, 19]\n"
          ]
        }
      ]
    },
    {
      "cell_type": "code",
      "source": [
        "#Slicing it\n",
        "\n",
        "clothes = ['sweater', 'tenis', 'pants', 'jeans', 't-shirt']\n",
        "print(f'Clothes1: {clothes}')\n",
        "\n",
        "new_clothes = clothes[:]\n",
        "print(f'Clothes2: {new_clothes}')\n",
        "\n",
        "new_clothes.remove('jeans')\n",
        "new_clothes.append('cardigan')\n",
        "print(f'Clothes1: {clothes}')\n",
        "print(f'Clothes2: {new_clothes}')\n"
      ],
      "metadata": {
        "id": "Fb-d7ur4y5QJ",
        "colab": {
          "base_uri": "https://localhost:8080/"
        },
        "outputId": "873339fc-a564-4d8e-9d95-1b57823b2f00"
      },
      "execution_count": null,
      "outputs": [
        {
          "output_type": "stream",
          "name": "stdout",
          "text": [
            "Clothes1: ['sweater', 'tenis', 'pants', 'jeans', 't-shirt']\n",
            "Clothes2: ['sweater', 'tenis', 'pants', 'jeans', 't-shirt']\n",
            "Clothes1: ['sweater', 'tenis', 'pants', 'jeans', 't-shirt']\n",
            "Clothes2: ['sweater', 'tenis', 'pants', 't-shirt', 'cardigan']\n"
          ]
        }
      ]
    },
    {
      "cell_type": "markdown",
      "source": [
        "#### Combining Loops and Lists"
      ],
      "metadata": {
        "id": "_bmRStsM0NYY"
      }
    },
    {
      "cell_type": "markdown",
      "source": [
        "##### Exercise: Create a list of numbers from 1 to 10 using a `for` loop and `append` each number squared to a new list."
      ],
      "metadata": {
        "id": "uvDs4ehSw7Gb"
      }
    },
    {
      "cell_type": "code",
      "source": [
        "numbers = list(range(1, 11))\n",
        "print(numbers)\n",
        "squares = []\n",
        "\n",
        "for number in numbers:\n",
        "  squares.append(number ** 2)\n",
        "\n",
        "print(squares)\n"
      ],
      "metadata": {
        "colab": {
          "base_uri": "https://localhost:8080/"
        },
        "id": "1eCqka0RpEij",
        "outputId": "48a6d6f4-f35e-4bfb-86d0-12efac50e649"
      },
      "execution_count": null,
      "outputs": [
        {
          "output_type": "stream",
          "name": "stdout",
          "text": [
            "[1, 2, 3, 4, 5, 6, 7, 8, 9, 10]\n",
            "[1, 4, 9, 16, 25, 36, 49, 64, 81, 100]\n"
          ]
        }
      ]
    },
    {
      "cell_type": "markdown",
      "source": [
        "#### Nested loops"
      ],
      "metadata": {
        "id": "234IeToc0MVY"
      }
    },
    {
      "cell_type": "markdown",
      "source": [
        "##### Exercise: Use nested loops to create a multiplication table (from 1 to 5)."
      ],
      "metadata": {
        "id": "KP5IzO930XfY"
      }
    },
    {
      "cell_type": "code",
      "source": [
        "for i in range(1,6):\n",
        "  for j in range(1,6):\n",
        "    print(f'{i} * {j} = {i * j}')"
      ],
      "metadata": {
        "id": "GZZrc0yo0ROS",
        "colab": {
          "base_uri": "https://localhost:8080/"
        },
        "outputId": "57ec02b3-afe0-4331-d6d3-44e9d007d192"
      },
      "execution_count": null,
      "outputs": [
        {
          "output_type": "stream",
          "name": "stdout",
          "text": [
            "1 * 1 = 1\n",
            "1 * 2 = 2\n",
            "1 * 3 = 3\n",
            "1 * 4 = 4\n",
            "1 * 5 = 5\n",
            "2 * 1 = 2\n",
            "2 * 2 = 4\n",
            "2 * 3 = 6\n",
            "2 * 4 = 8\n",
            "2 * 5 = 10\n",
            "3 * 1 = 3\n",
            "3 * 2 = 6\n",
            "3 * 3 = 9\n",
            "3 * 4 = 12\n",
            "3 * 5 = 15\n",
            "4 * 1 = 4\n",
            "4 * 2 = 8\n",
            "4 * 3 = 12\n",
            "4 * 4 = 16\n",
            "4 * 5 = 20\n",
            "5 * 1 = 5\n",
            "5 * 2 = 10\n",
            "5 * 3 = 15\n",
            "5 * 4 = 20\n",
            "5 * 5 = 25\n"
          ]
        }
      ]
    },
    {
      "cell_type": "markdown",
      "source": [
        "### 15 minutes Break"
      ],
      "metadata": {
        "id": "WJq63rtn0sL5"
      }
    },
    {
      "cell_type": "markdown",
      "source": [
        "### Part 5: Combining Loops and Dictionaries"
      ],
      "metadata": {
        "id": "cF5S1qv91UEn"
      }
    },
    {
      "cell_type": "markdown",
      "source": [
        "#### Introduction to Combining Loops and Dictionaries"
      ],
      "metadata": {
        "id": "xw8EDpjb1dZm"
      }
    },
    {
      "cell_type": "markdown",
      "source": [
        "Loops are extremely useful when working with dictionaries as they allow you to iterate over key-value pairs, keys, or values efficiently."
      ],
      "metadata": {
        "id": "5dKKnjr61eTk"
      }
    },
    {
      "cell_type": "markdown",
      "source": [
        "#### Demonstration of Looping Over Dictionaries"
      ],
      "metadata": {
        "id": "j_5W4JFD1jL7"
      }
    },
    {
      "cell_type": "code",
      "source": [
        "# Demonstration: Looping over a dictionary using a for loop to print keys and values\n",
        "sample_dict = {\"Name\": 1, \"age\": 2, \"height\": 3}\n",
        "for key, value in sample_dict.items():\n",
        "    print(f\"Key: {key}, Value: {value}\")\n",
        "\n"
      ],
      "metadata": {
        "colab": {
          "base_uri": "https://localhost:8080/"
        },
        "id": "4W_9X0ox1PJE",
        "outputId": "6e33a381-d6cc-49b8-feba-6a3a4939b06a"
      },
      "execution_count": null,
      "outputs": [
        {
          "output_type": "stream",
          "name": "stdout",
          "text": [
            "Key: Name, Value: 1\n",
            "Key: age, Value: 2\n",
            "Key: height, Value: 3\n"
          ]
        }
      ]
    },
    {
      "cell_type": "code",
      "source": [
        "#changing values\n",
        "sample_dict['a'] = 0\n",
        "print(sample_dict)"
      ],
      "metadata": {
        "id": "N_cUBLwK3dzu",
        "colab": {
          "base_uri": "https://localhost:8080/"
        },
        "outputId": "9738a8af-3bfd-446e-a4c9-52935901739c"
      },
      "execution_count": null,
      "outputs": [
        {
          "output_type": "stream",
          "name": "stdout",
          "text": [
            "{'a': 0, 'b': 2, 'c': 3}\n"
          ]
        }
      ]
    },
    {
      "cell_type": "code",
      "source": [
        "#changing keys\n",
        "sample_dict['year'] = sample_dict['age']\n",
        "del sample_dict['age']\n",
        "print(sample_dict)"
      ],
      "metadata": {
        "colab": {
          "base_uri": "https://localhost:8080/"
        },
        "id": "_pVU99au2jqQ",
        "outputId": "8e005787-15ba-41cf-c40c-28d93f8f5469"
      },
      "execution_count": null,
      "outputs": [
        {
          "output_type": "stream",
          "name": "stdout",
          "text": [
            "{'Name': 1, 'height': 3, 'year': 2}\n"
          ]
        }
      ]
    },
    {
      "cell_type": "code",
      "source": [
        "#changing keys with pop\n",
        "sample_dict['f'] = sample_dict.pop('a')\n",
        "print(sample_dict)"
      ],
      "metadata": {
        "colab": {
          "base_uri": "https://localhost:8080/"
        },
        "id": "xdIx8ICa3rsR",
        "outputId": "2b027ad8-10c5-4423-93cf-52f5d0271867"
      },
      "execution_count": null,
      "outputs": [
        {
          "output_type": "stream",
          "name": "stdout",
          "text": [
            "{'b': 2, 'c': 3, 'f': 1}\n"
          ]
        }
      ]
    },
    {
      "cell_type": "markdown",
      "source": [
        "#### Exercise - Print Keys and Values"
      ],
      "metadata": {
        "id": "XiGrLOSs1teu"
      }
    },
    {
      "cell_type": "markdown",
      "source": [
        "Exercise: Given the dictionary, print all keys and their corresponding values using a loop."
      ],
      "metadata": {
        "id": "mF1YQYS61wsU"
      }
    },
    {
      "cell_type": "code",
      "source": [
        "fruits = {\"apple\": 10, \"banana\": 20, \"cherry\": 30}"
      ],
      "metadata": {
        "id": "5lG4alRj1ckf"
      },
      "execution_count": null,
      "outputs": []
    },
    {
      "cell_type": "code",
      "source": [
        "for fruit, quantity in fruits.items():\n",
        "    print(f\"Fruit: {fruit}, Quantity: {quantity}\")"
      ],
      "metadata": {
        "colab": {
          "base_uri": "https://localhost:8080/"
        },
        "id": "H-uILV_EG_4k",
        "outputId": "9288ad96-92b9-4c14-d8d7-bacca0859a9f"
      },
      "execution_count": null,
      "outputs": [
        {
          "output_type": "stream",
          "name": "stdout",
          "text": [
            "Fruit: apple, Quantity: 10\n",
            "Fruit: banana, Quantity: 20\n",
            "Fruit: cherry, Quantity: 30\n"
          ]
        }
      ]
    },
    {
      "cell_type": "markdown",
      "source": [
        "##### Answer"
      ],
      "metadata": {
        "id": "f31Hv2lp13od"
      }
    },
    {
      "cell_type": "code",
      "source": [
        "for fruit in fruits.values():\n",
        "    print(fruit)"
      ],
      "metadata": {
        "colab": {
          "base_uri": "https://localhost:8080/"
        },
        "id": "XYNkbtLq12kN",
        "outputId": "b766f600-a055-44c4-aaa9-5856b38c5a37"
      },
      "execution_count": null,
      "outputs": [
        {
          "output_type": "stream",
          "name": "stdout",
          "text": [
            "10\n",
            "20\n",
            "30\n"
          ]
        }
      ]
    },
    {
      "cell_type": "markdown",
      "source": [
        "#### Exercise - Update Dictionary Values"
      ],
      "metadata": {
        "id": "Vn_W-E5f2CSg"
      }
    },
    {
      "cell_type": "markdown",
      "source": [
        " Exercise: Use a loop to double the quantity of each fruit and print the updated dictionary."
      ],
      "metadata": {
        "id": "CLwSAV622IQK"
      }
    },
    {
      "cell_type": "markdown",
      "source": [
        "##### Answer"
      ],
      "metadata": {
        "id": "mHSBYKtC2NsM"
      }
    },
    {
      "cell_type": "code",
      "source": [],
      "metadata": {
        "id": "7Qqdgf1g2E0P"
      },
      "execution_count": null,
      "outputs": []
    },
    {
      "cell_type": "markdown",
      "source": [
        "### Part 6: More Complex Loop Combinations"
      ],
      "metadata": {
        "id": "KWvCXlL54Xby"
      }
    },
    {
      "cell_type": "markdown",
      "source": [
        "#### Nested Loops with Data Structures"
      ],
      "metadata": {
        "id": "UJ9-hrg14bLi"
      }
    },
    {
      "cell_type": "markdown",
      "source": [
        "Using nested loops to interact with multiple data structures such as lists of dictionaries can be particularly powerful."
      ],
      "metadata": {
        "id": "jX8j_ASL4jf-"
      }
    },
    {
      "cell_type": "markdown",
      "source": [
        "##### Demonstration of Nested Loops"
      ],
      "metadata": {
        "id": "TvLCGs-Q4nyw"
      }
    },
    {
      "cell_type": "code",
      "source": [
        "# Demonstration: Use a nested loop to iterate over a list of dictionaries\n",
        "users = [{\"name\": \"Alice\", \"age\": 25}, {\"name\": \"Bob\", \"age\": 30}, {\"name\": \"Charlie\", \"age\": 35}]\n",
        "for user in users:\n",
        "    for key, value in user.items():\n",
        "        print(f\"{key}: {value}\")"
      ],
      "metadata": {
        "colab": {
          "base_uri": "https://localhost:8080/"
        },
        "id": "TJyE0REe4pYY",
        "outputId": "a622601e-46d6-4486-e513-85015d3adc21"
      },
      "execution_count": null,
      "outputs": [
        {
          "output_type": "stream",
          "name": "stdout",
          "text": [
            "name: Alice\n",
            "age: 25\n",
            "name: Bob\n",
            "age: 30\n",
            "name: Charlie\n",
            "age: 35\n"
          ]
        }
      ]
    },
    {
      "cell_type": "markdown",
      "source": [
        "#### Exercise - Sum Values in Nested Structures"
      ],
      "metadata": {
        "id": "GqsmSe6846Hk"
      }
    },
    {
      "cell_type": "markdown",
      "source": [
        "##### Exercise: Given a list of dictionaries, use a  x = 5 loop to calculate the total age of all users."
      ],
      "metadata": {
        "id": "PW08hgkT49rp"
      }
    },
    {
      "cell_type": "code",
      "source": [
        "total_age = 0\n",
        "for user in users:\n",
        "    total_age += user[\"age\"]\n",
        "print(f\"Total Age: {total_age}\")"
      ],
      "metadata": {
        "colab": {
          "base_uri": "https://localhost:8080/"
        },
        "id": "KbYZeJbfOAvk",
        "outputId": "2d6f8a1b-d356-4fcf-e117-472c94ec659d"
      },
      "execution_count": null,
      "outputs": [
        {
          "output_type": "stream",
          "name": "stdout",
          "text": [
            "Total Age: 90\n"
          ]
        }
      ]
    },
    {
      "cell_type": "code",
      "source": [
        "def fact(x):\n",
        "  if (x == 1 or x==0):\n",
        "    pass\n",
        "  else:\n",
        "    x=x*fact(x-1)\n",
        "    print(x)\n",
        "  return x\n",
        "\n",
        "print(fact(10))\n"
      ],
      "metadata": {
        "colab": {
          "base_uri": "https://localhost:8080/"
        },
        "id": "NRGxY8Z34_Hu",
        "outputId": "58b47488-2c93-4145-c81f-115bf68b7ef7"
      },
      "execution_count": null,
      "outputs": [
        {
          "output_type": "stream",
          "name": "stdout",
          "text": [
            "2\n",
            "6\n",
            "24\n",
            "120\n",
            "720\n",
            "5040\n",
            "40320\n",
            "362880\n",
            "3628800\n",
            "3628800\n"
          ]
        }
      ]
    },
    {
      "cell_type": "markdown",
      "source": [
        "### Final Comprehensive Exercise (15 minutes)"
      ],
      "metadata": {
        "id": "Fv5wKqab5Sfp"
      }
    },
    {
      "cell_type": "markdown",
      "source": [
        "#### Complex Data Handling Task"
      ],
      "metadata": {
        "id": "_VfV-J9g5X1L"
      }
    },
    {
      "cell_type": "markdown",
      "source": [
        "This task will combine all the skills learned in today’s session. You’ll work with lists, dictionaries, loops, and conditional statements to solve a practical problem."
      ],
      "metadata": {
        "id": "GgC0pFFk5aId"
      }
    },
    {
      "cell_type": "markdown",
      "source": [
        "#### Exercise - School Database Simulation"
      ],
      "metadata": {
        "id": "WDsEekxQ5eMe"
      }
    },
    {
      "cell_type": "markdown",
      "source": [
        "Create a small program to manage a school system that handles student grades."
      ],
      "metadata": {
        "id": "QZQjrXLj5hje"
      }
    },
    {
      "cell_type": "markdown",
      "source": [
        "Data structure: A list of dictionaries, each containing the student's name, a list of their grades, and their class name."
      ],
      "metadata": {
        "id": "FWeGVfaF5iuG"
      }
    },
    {
      "cell_type": "code",
      "source": [
        "students = [\n",
        "    {\"name\": \"John\", \"grades\": [88, 76, 92, 56], \"class\": \"biology\"},\n",
        "    {\"name\": \"Jane\", \"grades\": [80, 80, 84], \"class\": \"chemistry\"},\n",
        "    {\"name\": \"Dave\", \"grades\": [78, 80, 88,21,19], \"class\": \"algebra\"}\n",
        "]"
      ],
      "metadata": {
        "id": "xDe9Id185TMK"
      },
      "execution_count": null,
      "outputs": []
    },
    {
      "cell_type": "markdown",
      "source": [
        "#### Task: Calculate the average grade for each student and determine if they pass (average >= 80) or fail."
      ],
      "metadata": {
        "id": "OyhkHunu5ykq"
      }
    },
    {
      "cell_type": "markdown",
      "source": [
        "##### Answer"
      ],
      "metadata": {
        "id": "HF7pX0g-525q"
      }
    },
    {
      "cell_type": "code",
      "source": [
        "#code"
      ],
      "metadata": {
        "id": "7NXXzh0g5nBh",
        "colab": {
          "base_uri": "https://localhost:8080/"
        },
        "outputId": "32d04998-efe3-449f-81c4-c81f502be630"
      },
      "execution_count": null,
      "outputs": [
        {
          "output_type": "stream",
          "name": "stdout",
          "text": [
            "John in biology - Average Grade: 85.33333333333333, Status: pass\n",
            "Jane in chemistry - Average Grade: 81.33333333333333, Status: pass\n",
            "Dave in algebra - Average Grade: 82.0, Status: pass\n"
          ]
        }
      ]
    }
  ]
}
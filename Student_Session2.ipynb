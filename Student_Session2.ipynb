{
  "nbformat": 4,
  "nbformat_minor": 0,
  "metadata": {
    "colab": {
      "provenance": [],
      "collapsed_sections": [
        "D6uE5V-ZlAWV",
        "NAHHeOsJRrfN",
        "eYEmEYxXLRrv",
        "4eF74TOTLsZR",
        "Uxtp6C_AL86a",
        "CRr07nQrL_Gj",
        "U97ghgSYMWwk",
        "sPma0vH_M-aS",
        "yqmN_kAEWXF0"
      ],
      "include_colab_link": true
    },
    "kernelspec": {
      "name": "python3",
      "display_name": "Python 3"
    },
    "language_info": {
      "name": "python"
    }
  },
  "cells": [
    {
      "cell_type": "markdown",
      "metadata": {
        "id": "view-in-github",
        "colab_type": "text"
      },
      "source": [
        "<a href=\"https://colab.research.google.com/github/sssoja/python-data-structures/blob/main/Student_Session2.ipynb\" target=\"_parent\"><img src=\"https://colab.research.google.com/assets/colab-badge.svg\" alt=\"Open In Colab\"/></a>"
      ]
    },
    {
      "cell_type": "markdown",
      "source": [
        "\n",
        "\n",
        "# Session 2: Data Structures\n",
        "## Rodrigo Careaga\n",
        "###  4/May/2024\n"
      ],
      "metadata": {
        "id": "MWbMmOAwPmFt"
      }
    },
    {
      "cell_type": "markdown",
      "source": [
        "### Part 1: Strings"
      ],
      "metadata": {
        "id": "F5DDsf99QIOy"
      }
    },
    {
      "cell_type": "markdown",
      "source": [
        "Strings in Python\n",
        "Strings are sequences of characters used to store text. Python provides several methods to manipulate strings, which makes it powerful for handling text data.\n"
      ],
      "metadata": {
        "id": "hc57O0uBSW-P"
      }
    },
    {
      "cell_type": "markdown",
      "source": [
        "Working with String Methods\n"
      ],
      "metadata": {
        "id": "dZx3R02Tkq0K"
      }
    },
    {
      "cell_type": "code",
      "source": [
        "# Examples of string methods\n",
        "text = \"Hello, Python!\"\n",
        "# Convert to uppercase\n",
        "print(text.upper())\n",
        "# Convert to lowercase\n",
        "print(text.lower())\n",
        "# Convert to lowercase\n",
        "print(text.title())\n",
        "# Split the string into a list\n",
        "print(text.split(','))\n",
        "# Indexing (retrieve the first character)\n",
        "print(text[0])\n",
        "# Slicing (retrieve the first five characters)\n",
        "print(text[:5])"
      ],
      "metadata": {
        "id": "RJ8abPeqh4-0"
      },
      "execution_count": null,
      "outputs": []
    },
    {
      "cell_type": "markdown",
      "source": [
        "#### Introduction"
      ],
      "metadata": {
        "id": "D6uE5V-ZlAWV"
      }
    },
    {
      "cell_type": "markdown",
      "source": [
        "#### Exercise: Create a variable 'sentence' with the text \"learning Python is fun\", and:\n",
        "\n",
        "1. Capitalize the first letter of the sentence.\n",
        "2. Split the sentence into words.\n",
        "3. Print the last word of the sentence using negative indexing."
      ],
      "metadata": {
        "id": "sdZ_oWIplj6D"
      }
    },
    {
      "cell_type": "markdown",
      "source": [
        "##### Answer"
      ],
      "metadata": {
        "id": "mZ9iva2KdbNr"
      }
    },
    {
      "cell_type": "markdown",
      "source": [
        "### Part 2: Introduction to Lists\n"
      ],
      "metadata": {
        "id": "tnH0oZ4VmVwN"
      }
    },
    {
      "cell_type": "markdown",
      "source": [
        "##### Lists in Python\n",
        "Lists are ordered collections of items (which can be of different types). They are mutable, allowing modifications."
      ],
      "metadata": {
        "id": "OJMVH3sImd0m"
      }
    },
    {
      "cell_type": "markdown",
      "source": [
        "#### List Methods\n",
        "Demonstrating list methods"
      ],
      "metadata": {
        "id": "3Sag70dUJ-pt"
      }
    },
    {
      "cell_type": "code",
      "source": [
        "# List creation\n",
        "fruits = ['apple', 'banana', 'cherry']"
      ],
      "metadata": {
        "id": "golUEPxDJ6oB"
      },
      "execution_count": null,
      "outputs": []
    },
    {
      "cell_type": "code",
      "source": [
        "# Append 'orange' to the list\n",
        "fruits.append('orange')\n",
        "print(fruits)"
      ],
      "metadata": {
        "id": "F4cykI1bKDyl"
      },
      "execution_count": null,
      "outputs": []
    },
    {
      "cell_type": "code",
      "source": [
        "# Insert 'strawberry' in the third position of the list\n",
        "fruits.insert(2,'strawberry')\n",
        "print(fruits)"
      ],
      "metadata": {
        "id": "Ky4khvbKQAlw"
      },
      "execution_count": null,
      "outputs": []
    },
    {
      "cell_type": "code",
      "source": [
        "# Remove 'banana' from the list\n",
        "fruits.remove('banana')\n",
        "print(fruits)"
      ],
      "metadata": {
        "id": "JDjDaE1iKG6A"
      },
      "execution_count": null,
      "outputs": []
    },
    {
      "cell_type": "code",
      "source": [
        "# Pop the second item from the list\n",
        "print(fruits.pop(1))\n",
        "print(fruits)"
      ],
      "metadata": {
        "id": "2MDDBgybKIRz"
      },
      "execution_count": null,
      "outputs": []
    },
    {
      "cell_type": "markdown",
      "source": [
        "#### Exercise 1 - List Manipulation\n",
        "Exercise: Create a list of your three favorite foods and:\n",
        "1. Add 'pizza' to the list.\n",
        "2. Remove the first item from the list.\n",
        "3. Print the list before and after modifications."
      ],
      "metadata": {
        "id": "6TVdllUvm9bA"
      }
    },
    {
      "cell_type": "markdown",
      "source": [
        "##### Answer:"
      ],
      "metadata": {
        "id": "_bmRStsM0NYY"
      }
    },
    {
      "cell_type": "markdown",
      "source": [
        "#### Organizing a list"
      ],
      "metadata": {
        "id": "NAHHeOsJRrfN"
      }
    },
    {
      "cell_type": "code",
      "source": [
        "# List creation\n",
        "foods = ['sushi', 'taco', 'pasta', 'pizza']\n",
        "print(foods)"
      ],
      "metadata": {
        "id": "UxRlcEhWRqp0"
      },
      "execution_count": null,
      "outputs": []
    },
    {
      "cell_type": "code",
      "source": [
        "# sorting permanently\n",
        "foods.sort()\n",
        "print(foods)"
      ],
      "metadata": {
        "id": "HAZ2zUPOSBaD"
      },
      "execution_count": null,
      "outputs": []
    },
    {
      "cell_type": "code",
      "source": [
        "# reverse sorting permanently\n",
        "foods.sort(reverse=True)\n",
        "print(foods)"
      ],
      "metadata": {
        "id": "YmvcinhLSM3n"
      },
      "execution_count": null,
      "outputs": []
    },
    {
      "cell_type": "code",
      "source": [
        "#get total amount of elements in the list\n",
        "len(foods)"
      ],
      "metadata": {
        "id": "WbnjGIt4STpN"
      },
      "execution_count": null,
      "outputs": []
    },
    {
      "cell_type": "code",
      "source": [
        "# sorting temporarily\n",
        "foods = ['sushi', 'taco', 'pasta', 'pizza']\n",
        "\n",
        "print(sorted(foods))\n",
        "print(foods)"
      ],
      "metadata": {
        "id": "PRcLU_q6VNCh"
      },
      "execution_count": null,
      "outputs": []
    },
    {
      "cell_type": "code",
      "source": [
        "# inverting the original order\n",
        "foods = ['sushi', 'taco', 'pasta', 'pizza']\n",
        "\n",
        "foods.reverse()\n",
        "print(foods)"
      ],
      "metadata": {
        "id": "CJYBbMTkVjPY"
      },
      "execution_count": null,
      "outputs": []
    },
    {
      "cell_type": "markdown",
      "source": [
        "###  Part 3: Tuples\n",
        "Introduction to tuples"
      ],
      "metadata": {
        "id": "bSCLpnzZK_1p"
      }
    },
    {
      "cell_type": "markdown",
      "source": [
        "##### Tuples in Python\n",
        "Tuples are similar to lists but are immutable, meaning they cannot be changed after creation. This is useful for data that should not be modified."
      ],
      "metadata": {
        "id": "9kNznSUALKmx"
      }
    },
    {
      "cell_type": "markdown",
      "source": [
        "##### Using Tuples"
      ],
      "metadata": {
        "id": "eYEmEYxXLRrv"
      }
    },
    {
      "cell_type": "code",
      "source": [
        "# Example of tuple usage\n",
        "dimensions = (200, 50)\n",
        "print(\"Original dimensions:\", dimensions)"
      ],
      "metadata": {
        "colab": {
          "base_uri": "https://localhost:8080/"
        },
        "id": "S6gjRv_kLX5Q",
        "outputId": "b88abb7a-a374-4def-88ce-7f8f79c08927"
      },
      "execution_count": null,
      "outputs": [
        {
          "output_type": "stream",
          "name": "stdout",
          "text": [
            "Original dimensions: (200, 50)\n"
          ]
        }
      ]
    },
    {
      "cell_type": "code",
      "source": [
        "dimensions[0] = 250"
      ],
      "metadata": {
        "id": "vb7RxS_vLfVC"
      },
      "execution_count": null,
      "outputs": []
    },
    {
      "cell_type": "code",
      "source": [
        "dimensions.append(240)"
      ],
      "metadata": {
        "id": "XcshjivzZQzy"
      },
      "execution_count": null,
      "outputs": []
    },
    {
      "cell_type": "markdown",
      "source": [
        "### Part 4: Sets"
      ],
      "metadata": {
        "id": "4eF74TOTLsZR"
      }
    },
    {
      "cell_type": "markdown",
      "source": [
        "#### Sets in Python\n",
        "Sets are collections of unique elements. They are useful for operations like unions, intersections, and differences."
      ],
      "metadata": {
        "id": "Uxtp6C_AL86a"
      }
    },
    {
      "cell_type": "markdown",
      "source": [
        "##### Set Operations\n",
        "Demonstrating set operations\n"
      ],
      "metadata": {
        "id": "CRr07nQrL_Gj"
      }
    },
    {
      "cell_type": "code",
      "source": [
        "#Sets creation\n",
        "a = {1, 2, 3, 4}\n",
        "b = {3, 4, 5, 6}"
      ],
      "metadata": {
        "id": "c7sIRxB0LyC-"
      },
      "execution_count": null,
      "outputs": []
    },
    {
      "cell_type": "code",
      "source": [
        "# Union\n",
        "print(\"Union:\", a | b)\n",
        "print(a.union(b))"
      ],
      "metadata": {
        "id": "hBIsu7BgMKTi"
      },
      "execution_count": null,
      "outputs": []
    },
    {
      "cell_type": "code",
      "source": [
        "# Intersection\n",
        "print(\"Intersection:\", a & b)\n",
        "print(a.intersection(b))"
      ],
      "metadata": {
        "id": "SemQIWvGMMla"
      },
      "execution_count": null,
      "outputs": []
    },
    {
      "cell_type": "code",
      "source": [
        "# Difference\n",
        "print(\"Difference:\", a - b)\n",
        "print(a.difference(b))"
      ],
      "metadata": {
        "id": "mhyNi6szMPja"
      },
      "execution_count": null,
      "outputs": []
    },
    {
      "cell_type": "code",
      "source": [
        "#adding\n",
        "a.add(7)\n",
        "print(a)"
      ],
      "metadata": {
        "id": "GUPKYhhJawyt"
      },
      "execution_count": null,
      "outputs": []
    },
    {
      "cell_type": "code",
      "source": [
        "#remove\n",
        "a.remove(7)\n",
        "print(a)"
      ],
      "metadata": {
        "id": "dKTtMQhCa-m6"
      },
      "execution_count": null,
      "outputs": []
    },
    {
      "cell_type": "markdown",
      "source": [
        "### Part 5: Dictionaries"
      ],
      "metadata": {
        "id": "U97ghgSYMWwk"
      }
    },
    {
      "cell_type": "markdown",
      "source": [
        "#### Dictionaries in Python\n",
        "Dictionaries store data as key-value pairs and are incredibly efficient for lookup operations."
      ],
      "metadata": {
        "id": "WH8kc5vZMfNf"
      }
    },
    {
      "cell_type": "markdown",
      "source": [
        "#### Working with Dictionaries\n",
        "Demonstrating dictionary methods"
      ],
      "metadata": {
        "id": "FuUq0_56Mm1w"
      }
    },
    {
      "cell_type": "code",
      "source": [
        "# Dictionary creation\n",
        "info = {'name': 'John', 'age': 30, 'city': 'New York'}"
      ],
      "metadata": {
        "id": "I_oPF-w8MSQf"
      },
      "execution_count": null,
      "outputs": []
    },
    {
      "cell_type": "code",
      "source": [
        "# Accessing items\n",
        "print(info['name'])"
      ],
      "metadata": {
        "colab": {
          "base_uri": "https://localhost:8080/"
        },
        "id": "S-lshyFVM0bU",
        "outputId": "5137bd9e-1780-49fe-a50d-91ff0453640e"
      },
      "execution_count": null,
      "outputs": [
        {
          "output_type": "stream",
          "name": "stdout",
          "text": [
            "John\n"
          ]
        }
      ]
    },
    {
      "cell_type": "code",
      "source": [
        "# Getting all keys\n",
        "print(info.keys())"
      ],
      "metadata": {
        "colab": {
          "base_uri": "https://localhost:8080/"
        },
        "id": "H0H4d9HXM2ah",
        "outputId": "c68a037f-6730-4c0d-8074-9e17eef9c228"
      },
      "execution_count": null,
      "outputs": [
        {
          "output_type": "stream",
          "name": "stdout",
          "text": [
            "dict_keys(['name', 'age', 'city'])\n"
          ]
        }
      ]
    },
    {
      "cell_type": "code",
      "source": [
        "# Getting all values\n",
        "print(info.values())"
      ],
      "metadata": {
        "colab": {
          "base_uri": "https://localhost:8080/"
        },
        "id": "94ATFdnHM5yb",
        "outputId": "85747b9e-c346-4956-9b91-c06bc890a00f"
      },
      "execution_count": null,
      "outputs": [
        {
          "output_type": "stream",
          "name": "stdout",
          "text": [
            "dict_values(['John', 30, 'New York'])\n"
          ]
        }
      ]
    },
    {
      "cell_type": "code",
      "source": [
        "# Getting all key-value pairs\n",
        "print(info.items())"
      ],
      "metadata": {
        "colab": {
          "base_uri": "https://localhost:8080/"
        },
        "id": "f9c-Eg3JM6YW",
        "outputId": "8f953ef9-9c44-4185-efe3-19aca7ee07a0"
      },
      "execution_count": null,
      "outputs": [
        {
          "output_type": "stream",
          "name": "stdout",
          "text": [
            "dict_items([('name', 'John'), ('age', 30), ('city', 'New York')])\n"
          ]
        }
      ]
    },
    {
      "cell_type": "markdown",
      "source": [
        "#### Exercise - Dictionary Manipulation"
      ],
      "metadata": {
        "id": "sPma0vH_M-aS"
      }
    },
    {
      "cell_type": "markdown",
      "source": [
        "Create a dictionary representing a book with keys 'title', 'author', and 'year'. Update the year to the current year and print all key-value pairs."
      ],
      "metadata": {
        "id": "WO0xAL5ZNCna"
      }
    },
    {
      "cell_type": "markdown",
      "source": [
        "##### Answer:"
      ],
      "metadata": {
        "id": "RjnwJUA5N5Z9"
      }
    },
    {
      "cell_type": "markdown",
      "source": [
        "### Part 6: Loops with lists"
      ],
      "metadata": {
        "id": "yqmN_kAEWXF0"
      }
    },
    {
      "cell_type": "code",
      "source": [
        "students = ['Luis','Maria','Juan','Rosa']"
      ],
      "metadata": {
        "id": "_3I4ONRGWU0H"
      },
      "execution_count": null,
      "outputs": []
    },
    {
      "cell_type": "code",
      "source": [
        "for student in students:\n",
        "  print(student)"
      ],
      "metadata": {
        "id": "GaszuurdWWnt"
      },
      "execution_count": null,
      "outputs": []
    },
    {
      "cell_type": "code",
      "source": [
        "students = ['luis','maria','juan','rosa']\n",
        "for student in students:\n",
        "  print(f\"{student.title()} started to study Python\\n\")\n"
      ],
      "metadata": {
        "id": "1FgZ9-HWWqCw"
      },
      "execution_count": null,
      "outputs": []
    },
    {
      "cell_type": "code",
      "source": [
        "#How to fix the following print?\n",
        "\n",
        "students = ['luis','maria','juan','rosa']\n",
        "for student in students:\n",
        "  print(f\"{student.title()} started to study Python\\n\")\n",
        "  print('Great to have you all in class')"
      ],
      "metadata": {
        "id": "rhtUQVbiXTyy"
      },
      "execution_count": null,
      "outputs": []
    },
    {
      "cell_type": "markdown",
      "source": [
        "### Simple List Exercise: Favorite Foods\n",
        "**Objective:** Create a Python script to manage a list of favorite foods, demonstrating how to use list methods and a basic loop.\n",
        "\n",
        "**Instructions:**\n",
        "\n",
        "**Initialize List:**\n",
        "Start with a predefined list of favorite foods.\n",
        "Example list: `favorite_foods = [\"pizza\", \"sushi\", \"chocolate\", \"pasta\"]`\n",
        "\n",
        "**Add Items:**\n",
        "Use the `append()` method to add \"tacos\" to the list.\n",
        "\n",
        "**Remove an Item:**\n",
        "Use the `remove()` method to remove \"chocolate\" from the list.\n",
        "\n",
        "**Insert an Item:**\n",
        "Use the `insert()` method to add \"ice cream\" as the second item in the list.\n",
        "\n",
        "**Use a Loop:**\n",
        "Use a \"for\" loop to print each food in the list alongside its index.\n",
        "\n",
        "**Sort the List:**\n",
        "Use the `sort()` method to sort the list alphabetically."
      ],
      "metadata": {
        "id": "QOMRZLKDcU4B"
      }
    },
    {
      "cell_type": "markdown",
      "source": [
        "#### Answer"
      ],
      "metadata": {
        "id": "yC3c45j5c_Mb"
      }
    }
  ]
}
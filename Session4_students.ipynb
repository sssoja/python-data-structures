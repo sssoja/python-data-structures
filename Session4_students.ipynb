{
  "cells": [
    {
      "cell_type": "markdown",
      "metadata": {
        "id": "view-in-github",
        "colab_type": "text"
      },
      "source": [
        "<a href=\"https://colab.research.google.com/github/sssoja/python-intro/blob/main/Session4_students.ipynb\" target=\"_parent\"><img src=\"https://colab.research.google.com/assets/colab-badge.svg\" alt=\"Open In Colab\"/></a>"
      ]
    },
    {
      "cell_type": "markdown",
      "metadata": {
        "id": "P1LLsdOW63x_"
      },
      "source": [
        "## Jupyter Notebook: Python Functions\n",
        "\n",
        "### Part 1: Defining and Calling Functions\n",
        "\n",
        "### Cell 1: Introduction to Functions\n",
        "\n"
      ]
    },
    {
      "cell_type": "markdown",
      "metadata": {
        "id": "RsAbjbs963yA"
      },
      "source": [
        "# Introduction to Functions"
      ]
    },
    {
      "cell_type": "markdown",
      "metadata": {
        "id": "sTKvj_Ig63yB"
      },
      "source": [
        "Functions in Python are defined using the `def` keyword, and they are used to encapsulate code into reusable blocks.\n",
        "They can take inputs, process them, and return results."
      ]
    },
    {
      "cell_type": "markdown",
      "metadata": {
        "id": "QCzws3sT63yB"
      },
      "source": [
        "### Defining a Simple Function"
      ]
    },
    {
      "cell_type": "code",
      "execution_count": null,
      "metadata": {
        "id": "y72ylxK263yB"
      },
      "outputs": [],
      "source": [
        "# Defining a simple function\n",
        "def greet():\n",
        "    print(\"Hello, welcome to the Python class!\")"
      ]
    },
    {
      "cell_type": "code",
      "execution_count": null,
      "metadata": {
        "id": "vfxE-52i63yC",
        "outputId": "781fe3e8-7ea7-4aef-b919-4295d0b835bc"
      },
      "outputs": [
        {
          "name": "stdout",
          "output_type": "stream",
          "text": [
            "Hello, welcome to the Python class!\n"
          ]
        }
      ],
      "source": [
        "# Calling the function\n",
        "greet()"
      ]
    },
    {
      "cell_type": "markdown",
      "metadata": {
        "id": "vIDNPRD563yE"
      },
      "source": [
        "### Exercise - Define Your Own Function"
      ]
    },
    {
      "cell_type": "markdown",
      "metadata": {
        "id": "JzIvSdCE63yE"
      },
      "source": [
        "#### Create a function with your favorite sport"
      ]
    },
    {
      "cell_type": "code",
      "source": [
        "# Answer"
      ],
      "metadata": {
        "id": "wAJ8_apn7O7W"
      },
      "execution_count": null,
      "outputs": []
    },
    {
      "cell_type": "markdown",
      "metadata": {
        "id": "Zb4SgSgi63yF"
      },
      "source": [
        "### Part 2: Arguments and Parameters"
      ]
    },
    {
      "cell_type": "markdown",
      "metadata": {
        "id": "FH5CZ-Pw63yF"
      },
      "source": [
        "### Passing Information to a Function"
      ]
    },
    {
      "cell_type": "markdown",
      "metadata": {
        "id": "YdaDU1v163yF"
      },
      "source": [
        "Functions can take parameters, allowing you to pass different values and types of data to them."
      ]
    },
    {
      "cell_type": "markdown",
      "metadata": {
        "id": "m7CClhqm63yF"
      },
      "source": [
        "### Function with Parameters"
      ]
    },
    {
      "cell_type": "code",
      "execution_count": null,
      "metadata": {
        "id": "73hZ1LUX63yG",
        "outputId": "3588014b-a962-4fcf-bd5d-ddf46d760f7d"
      },
      "outputs": [
        {
          "name": "stdout",
          "output_type": "stream",
          "text": [
            "Hello, Rodrigo!\n"
          ]
        }
      ],
      "source": [
        "# A function that uses parameters\n",
        "def greet_user(username):\n",
        "    print(f\"Hello, {username}!\")\n",
        "\n",
        "greet_user(\"Rodrigo\")"
      ]
    },
    {
      "cell_type": "markdown",
      "metadata": {
        "id": "7H4CDAL063yG"
      },
      "source": [
        "### Exercise - Function with Parameters\n"
      ]
    },
    {
      "cell_type": "markdown",
      "metadata": {
        "id": "2WpH1nbN63yG"
      },
      "source": [
        "#### Exercise: Write a function that takes a person's name and age and prints a message."
      ]
    },
    {
      "cell_type": "code",
      "execution_count": null,
      "metadata": {
        "id": "_D2uWB1c63yG"
      },
      "outputs": [],
      "source": [
        "# Exercise: Write a function that takes a person's name and age and prints a message."
      ]
    },
    {
      "cell_type": "markdown",
      "metadata": {
        "id": "w9Mo-EQX63yH"
      },
      "source": [
        "### Part 3: Types of Arguments\n"
      ]
    },
    {
      "cell_type": "markdown",
      "metadata": {
        "id": "s9a_Bha463yH"
      },
      "source": [
        "### Positional and Keyword Arguments\n"
      ]
    },
    {
      "cell_type": "markdown",
      "metadata": {
        "id": "AY5HlW-463yH"
      },
      "source": [
        "Positional arguments need to be in the order the parameters were written. Keyword arguments are passed by explicitly assigning values to parameters by their names."
      ]
    },
    {
      "cell_type": "markdown",
      "metadata": {
        "id": "tFI9g95v63yH"
      },
      "source": [
        "### Using Different Types of Arguments\n"
      ]
    },
    {
      "cell_type": "code",
      "execution_count": null,
      "metadata": {
        "id": "z2xDFYZU63yH"
      },
      "outputs": [],
      "source": [
        "def describe_pet(animal_type, pet_name):\n",
        "    print(f\"I have a {animal_type} named {pet_name.title()}.\")"
      ]
    },
    {
      "cell_type": "code",
      "execution_count": null,
      "metadata": {
        "id": "PnxtwFWv63yH",
        "outputId": "a216c4e8-85cd-432e-a6b8-21530b18f7d5"
      },
      "outputs": [
        {
          "name": "stdout",
          "output_type": "stream",
          "text": [
            "I have a hamster named Harry.\n"
          ]
        }
      ],
      "source": [
        "# Positional arguments:\n",
        "describe_pet('hamster', 'harry')"
      ]
    },
    {
      "cell_type": "code",
      "execution_count": null,
      "metadata": {
        "id": "K2InRu5B63yI",
        "outputId": "1a43584d-26ef-4e6e-96af-3abca90b2b87"
      },
      "outputs": [
        {
          "name": "stdout",
          "output_type": "stream",
          "text": [
            "I have a cat named Willow.\n"
          ]
        }
      ],
      "source": [
        "# Keyword arguments:\n",
        "describe_pet(pet_name='Willow', animal_type='cat')"
      ]
    },
    {
      "cell_type": "markdown",
      "metadata": {
        "id": "np9fTeV-63yI"
      },
      "source": [
        "### Exercise - Using Both Argument Types\n"
      ]
    },
    {
      "cell_type": "code",
      "source": [
        "#### Exercise: Define a function for a city where you can pass the city and country both ways."
      ],
      "metadata": {
        "id": "BOv3bWJu7vr6"
      },
      "execution_count": null,
      "outputs": []
    },
    {
      "cell_type": "markdown",
      "metadata": {
        "id": "ZUWnfLn663yJ"
      },
      "source": [
        "### Part 4: Default Values and Arbitrary Arguments\n"
      ]
    },
    {
      "cell_type": "markdown",
      "metadata": {
        "id": "AnqYbL6M63yJ"
      },
      "source": [
        "### Function Defaults and Arbitrary Number of Arguments\n"
      ]
    },
    {
      "cell_type": "markdown",
      "metadata": {
        "id": "zKdPwBKh63yJ"
      },
      "source": [
        "Functions can have default values for parameters. They can also handle an arbitrary number of arguments using *args for positional arguments and **kwargs for keyword arguments."
      ]
    },
    {
      "cell_type": "markdown",
      "metadata": {
        "id": "1RLkxPm363yJ"
      },
      "source": [
        "### Functions with Default Values and Arbitrary Arguments\n"
      ]
    },
    {
      "cell_type": "code",
      "execution_count": null,
      "metadata": {
        "id": "zgXeKsoQ63yJ"
      },
      "outputs": [],
      "source": [
        "# Function with default values and arbitrary arguments\n",
        "def make_pizza(size='medium', *toppings):\n",
        "    print(f\"Making a {size} pizza with the following toppings:\")\n",
        "    for topping in toppings:\n",
        "        print(f\"- {topping}\")"
      ]
    },
    {
      "cell_type": "code",
      "execution_count": null,
      "metadata": {
        "id": "ej6_L2w-63yJ",
        "outputId": "eebbed1a-25c2-4ae9-91c8-820ee78f1be6",
        "colab": {
          "base_uri": "https://localhost:8080/"
        }
      },
      "outputs": [
        {
          "output_type": "stream",
          "name": "stdout",
          "text": [
            "Making a large pizza with the following toppings:\n",
            "- pepperoni\n",
            "- cheese\n",
            "- mushrooms\n",
            "Making a small pizza with the following toppings:\n",
            "- cheese\n"
          ]
        }
      ],
      "source": [
        "make_pizza('large', 'pepperoni', 'cheese', 'mushrooms')\n",
        "make_pizza('small', 'cheese')"
      ]
    },
    {
      "cell_type": "code",
      "execution_count": null,
      "metadata": {
        "id": "EtpWnw1n63yJ",
        "outputId": "8965482b-b16d-4793-c986-e14a955957b0",
        "colab": {
          "base_uri": "https://localhost:8080/"
        }
      },
      "outputs": [
        {
          "output_type": "stream",
          "name": "stdout",
          "text": [
            "('abcde', 'RealPythonIsGreat!')\n"
          ]
        }
      ],
      "source": [
        "def concatenate(**kwargs):\n",
        "    result = \"\"\n",
        "    values = ''\n",
        "    # Iterating over the Python kwargs dictionary\n",
        "    for arg,value in kwargs.items():\n",
        "        result += arg\n",
        "        values += value\n",
        "\n",
        "    return result,values\n",
        "\n",
        "print(concatenate(a=\"Real\", b=\"Python\", c=\"Is\", d=\"Great\", e=\"!\"))"
      ]
    },
    {
      "cell_type": "markdown",
      "metadata": {
        "id": "3xyaHJE563yJ"
      },
      "source": [
        "###  Exercise - Arbitrary Arguments\n"
      ]
    },
    {
      "cell_type": "markdown",
      "metadata": {
        "id": "wM9CRRIg63yK"
      },
      "source": [
        "Create a function that takes a number of children's names and prints each name."
      ]
    },
    {
      "cell_type": "code",
      "execution_count": null,
      "metadata": {
        "id": "7Jlssn4A63yK",
        "outputId": "d832449a-e744-46b8-e2b2-648789cf3ee9"
      },
      "outputs": [
        {
          "name": "stdout",
          "output_type": "stream",
          "text": [
            "Children's names:\n",
            "Juan\n",
            "Paco\n",
            "Pedro\n"
          ]
        }
      ],
      "source": []
    },
    {
      "cell_type": "markdown",
      "metadata": {
        "id": "XGR_D3UC63yK"
      },
      "source": [
        "### Part 5: Functions and Modules"
      ]
    },
    {
      "cell_type": "markdown",
      "metadata": {
        "id": "jdSFI_Xc63yK"
      },
      "source": [
        "### Modules and Importing Functions\n"
      ]
    },
    {
      "cell_type": "markdown",
      "metadata": {
        "id": "FHa_RuUx63yK"
      },
      "source": [
        "Functions can be saved in modules, which are just .py files with function definitions. You can import these functions into other Python scripts."
      ]
    },
    {
      "cell_type": "markdown",
      "metadata": {
        "id": "2-hfqIjW63yK"
      },
      "source": [
        "### Importing and Using Modules\n"
      ]
    },
    {
      "cell_type": "code",
      "execution_count": null,
      "metadata": {
        "id": "f0QObOCD63yK"
      },
      "outputs": [],
      "source": [
        "# Create a .py with a module named `pizza` with a function `make_pizza()`\n",
        "# Importing and using a function from a module\n",
        "from pizza import make_pizza,make_pasta\n",
        "\n",
        "make_pizza('medium', 'olives', 'tomatoes')\n",
        "make_pasta()"
      ]
    },
    {
      "cell_type": "markdown",
      "metadata": {
        "id": "tzJ6KBwn63yL"
      },
      "source": [
        "### Comprehensive Exercise - Function Module"
      ]
    },
    {
      "cell_type": "markdown",
      "metadata": {
        "id": "P7Vi4kah63yL"
      },
      "source": [
        "#### Write a function that accepts several keywords that describe a car (manufacturer, model, color...) and prints this information in a formatted way. Save this function in a module and import it"
      ]
    },
    {
      "cell_type": "code",
      "execution_count": null,
      "metadata": {
        "id": "I34yVOQp63yL",
        "outputId": "c1c565fd-1f2f-4448-9c0d-5a226ec1f251"
      },
      "outputs": [
        {
          "name": "stdout",
          "output_type": "stream",
          "text": [
            "Manufacturer: Tesla\n",
            "Model: Model S\n",
            "Color: black\n",
            "Year: 2022\n",
            "Autopilot: True\n"
          ]
        }
      ],
      "source": [
        "#Sample Output"
      ]
    },
    {
      "cell_type": "code",
      "execution_count": null,
      "metadata": {
        "id": "VoBsxy-H63yL",
        "outputId": "b1b96c0d-09eb-4eb0-ee82-8224db879536"
      },
      "outputs": [
        {
          "name": "stdout",
          "output_type": "stream",
          "text": [
            "Manufacturer: Ford\n",
            "Model: Focus\n",
            "Color: red\n",
            "Year: 2019\n",
            "Autopilot: False\n"
          ]
        }
      ],
      "source": [
        "#Sample Output"
      ]
    },
    {
      "cell_type": "code",
      "source": [
        "def make_pasta(types, recipe,*add_ons):\n",
        "    '''Function that based on the size and the topings of the pasta we are gonna make'''\n",
        "    if len(add_ons) >= 1:\n",
        "      print(f\"Making a {types} {recipe} pasta with the following add_ons:\")\n",
        "      for add_on in add_ons:\n",
        "        print(f\"- {add_on}\")\n",
        "    else:\n",
        "        print(f\"Making a {types} {recipe} pasta\")\n",
        "\n",
        "make_pasta('pasta','bolognese',['ham','extra meat','sweet corn','pepperoni'])"
      ],
      "metadata": {
        "colab": {
          "base_uri": "https://localhost:8080/"
        },
        "id": "fel0vefPZnL9",
        "outputId": "e7e2d951-32dd-45d6-93b9-3d2e2f5e5224"
      },
      "execution_count": null,
      "outputs": [
        {
          "output_type": "stream",
          "name": "stdout",
          "text": [
            "Making a pasta bolognese pasta with the following add_ons:\n",
            "- ['ham', 'extra meat', 'sweet corn', 'pepperoni']\n"
          ]
        }
      ]
    },
    {
      "cell_type": "code",
      "source": [],
      "metadata": {
        "id": "cLZMqxdyZnfJ"
      },
      "execution_count": null,
      "outputs": []
    }
  ],
  "metadata": {
    "kernelspec": {
      "display_name": "Python 3",
      "language": "python",
      "name": "python3"
    },
    "language_info": {
      "codemirror_mode": {
        "name": "ipython",
        "version": 3
      },
      "file_extension": ".py",
      "mimetype": "text/x-python",
      "name": "python",
      "nbconvert_exporter": "python",
      "pygments_lexer": "ipython3",
      "version": "3.10.13"
    },
    "colab": {
      "provenance": [],
      "include_colab_link": true
    }
  },
  "nbformat": 4,
  "nbformat_minor": 0
}
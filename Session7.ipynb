{
  "cells": [
    {
      "cell_type": "markdown",
      "metadata": {
        "id": "view-in-github",
        "colab_type": "text"
      },
      "source": [
        "<a href=\"https://colab.research.google.com/github/sssoja/python-intro/blob/main/Session7.ipynb\" target=\"_parent\"><img src=\"https://colab.research.google.com/assets/colab-badge.svg\" alt=\"Open In Colab\"/></a>"
      ]
    },
    {
      "cell_type": "markdown",
      "metadata": {
        "id": "P1LLsdOW63x_"
      },
      "source": [
        "# Session 6: Introduction to Pandas\n",
        "## Rodrigo Careaga\n",
        "### 22/May/2024\n"
      ]
    },
    {
      "cell_type": "markdown",
      "metadata": {
        "id": "cBTZET2n4-Z2"
      },
      "source": [
        "### What is Pandas?\n",
        "\n",
        "Pandas is an open-source, BSD-licensed library providing high-performance, easy-to-use data structures and data analysis tools for the Python programming language."
      ]
    },
    {
      "cell_type": "markdown",
      "metadata": {
        "id": "kHZQ-tLt5B-j"
      },
      "source": [
        "### Key Features of Pandas\n",
        "- Fast and efficient DataFrame object for data manipulation with integrated indexing.\n",
        "- Tools for reading and writing data between in-memory data structures and different file formats.\n",
        "- Data alignment and integrated handling of missing data.\n",
        "- Reshaping and pivoting of data sets.\n",
        "- Label-based slicing, indexing, and subsetting of large data sets.\n",
        "- Data structure column insertion and deletion.\n",
        "- Group by engine allowing split-apply-combine operations on data sets.\n",
        "- High performance merging and joining of data.\n",
        "- Time Series functionality."
      ]
    },
    {
      "cell_type": "markdown",
      "metadata": {
        "id": "EQ3UJZCcL1zN"
      },
      "source": [
        "## Importing Pandas\n",
        "To use pandas, you first need to import the pandas package. We usually import it as `pd`:"
      ]
    },
    {
      "cell_type": "code",
      "execution_count": null,
      "metadata": {
        "id": "Q3lonj5GL1zO"
      },
      "outputs": [],
      "source": [
        "import pandas as pd"
      ]
    },
    {
      "cell_type": "markdown",
      "metadata": {
        "id": "p-4LCQNGL1zP"
      },
      "source": [
        "## Series and DataFrame"
      ]
    },
    {
      "cell_type": "markdown",
      "metadata": {
        "id": "m7CClhqm63yF"
      },
      "source": [
        "### Series\n",
        "A Series is a one-dimensional array-like object containing an array of data and an associated array of data labels, called its index."
      ]
    },
    {
      "cell_type": "code",
      "execution_count": null,
      "metadata": {
        "id": "4n76M5k3mOZK"
      },
      "outputs": [],
      "source": [
        "# Creating a simple Pandas Series from a list\n",
        "data = pd.Series([1, 3, 5, 7, 9])\n",
        "print(data)"
      ]
    },
    {
      "cell_type": "markdown",
      "metadata": {
        "id": "S8Obc8NjwPz6"
      },
      "source": [
        "### DataFrame"
      ]
    },
    {
      "cell_type": "markdown",
      "metadata": {
        "id": "0CKoPd8zwUwU"
      },
      "source": [
        "A DataFrame is a two-dimensional size-mutable, potentially heterogeneous tabular data structure with labeled axes (rows and columns)."
      ]
    },
    {
      "cell_type": "code",
      "execution_count": null,
      "metadata": {
        "id": "eno_3mJdL1zQ",
        "outputId": "50b41bc6-4723-4371-d654-edc543a68eb6"
      },
      "outputs": [
        {
          "name": "stdout",
          "output_type": "stream",
          "text": [
            "   Country    Capital  Population\n",
            "0  Belgium   Brussels    12431256\n",
            "1    India  New Delhi   123154262\n",
            "2   Brazil   Brasília    21451325\n"
          ]
        }
      ],
      "source": [
        "# Creating a DataFrame from a dictionary\n",
        "data = {\n",
        "    'Country': ['Belgium', 'India', 'Brazil'],\n",
        "    'Capital': ['Brussels', 'New Delhi', 'Brasília'],\n",
        "    'Population': [12431256, 123154262, 21451325]\n",
        "}\n",
        "df = pd.DataFrame(data)\n",
        "print(df)"
      ]
    },
    {
      "cell_type": "markdown",
      "metadata": {
        "id": "8G-eLmbFL1zR"
      },
      "source": [
        "### Reading Data"
      ]
    },
    {
      "cell_type": "markdown",
      "metadata": {
        "id": "WcR-10qCL1zR"
      },
      "source": [
        "Pandas supports many file formats like CSV, Excel, JSON, HTML, and HDF5, among others. Here, we'll focus on reading data from a CSV file."
      ]
    },
    {
      "cell_type": "code",
      "execution_count": null,
      "metadata": {
        "id": "a1aWI1DfL1zR",
        "outputId": "3b499ea0-cca5-4299-f15a-65962f6bbb1d"
      },
      "outputs": [
        {
          "name": "stdout",
          "output_type": "stream",
          "text": [
            "       Item  Amount  Cost\n",
            "0    Laptop      25   500\n",
            "1     Mouse      33    99\n",
            "2  Keyboard      10   250\n"
          ]
        }
      ],
      "source": [
        "# Loading data from CSV\n",
        "df = pd.read_csv('sample.csv')\n",
        "print(df.head())  # Display the first 5 rows of the DataFrame"
      ]
    },
    {
      "cell_type": "markdown",
      "metadata": {
        "id": "u0sBb7N4L1zR"
      },
      "source": [
        "### Data Manipulation"
      ]
    },
    {
      "cell_type": "markdown",
      "metadata": {
        "id": "7F0l9dGlL1zR"
      },
      "source": [
        "#### Selecting Data"
      ]
    },
    {
      "cell_type": "markdown",
      "metadata": {
        "id": "Reo2FrMRL1zS"
      },
      "source": [
        "Accessing a specific column"
      ]
    },
    {
      "cell_type": "code",
      "execution_count": null,
      "metadata": {
        "id": "UJXXQXL_L1zS",
        "outputId": "e764a13b-80f3-4407-cc45-fc7ec2fd9b09"
      },
      "outputs": [
        {
          "name": "stdout",
          "output_type": "stream",
          "text": [
            "0     Brussels\n",
            "1    New Delhi\n",
            "2     Brasília\n",
            "Name: Capital, dtype: object\n"
          ]
        }
      ],
      "source": [
        "print(df['Capital'])"
      ]
    },
    {
      "cell_type": "markdown",
      "metadata": {
        "id": "4ThAD4FOL1zS"
      },
      "source": [
        "Slicing rows"
      ]
    },
    {
      "cell_type": "code",
      "execution_count": null,
      "metadata": {
        "id": "VJCS0PHiL1zS",
        "outputId": "d46750f0-b5fa-4b14-812d-122676c6eca5"
      },
      "outputs": [
        {
          "name": "stdout",
          "output_type": "stream",
          "text": [
            "   Country    Capital  Population\n",
            "0  Belgium   Brussels    11190846\n",
            "1    India  New Delhi  1303171035\n"
          ]
        }
      ],
      "source": [
        "print(df[0:2])"
      ]
    },
    {
      "cell_type": "markdown",
      "metadata": {
        "id": "v9KRarSCL1zS"
      },
      "source": [
        "Data Filtering"
      ]
    },
    {
      "cell_type": "code",
      "execution_count": null,
      "metadata": {
        "id": "guNAieGfL1zS",
        "outputId": "c113eeef-d6c6-441e-f5aa-a6e60812c6af"
      },
      "outputs": [
        {
          "name": "stdout",
          "output_type": "stream",
          "text": [
            "   Country    Capital  Population\n",
            "0  Belgium   Brussels    11190846\n",
            "1    India  New Delhi  1303171035\n",
            "2   Brazil   Brasília   207847528\n"
          ]
        }
      ],
      "source": [
        "# Filtering data based on a condition\n",
        "filtered_data = df[df['Population'] > 1000000]\n",
        "print(filtered_data)"
      ]
    },
    {
      "cell_type": "markdown",
      "metadata": {
        "id": "ZBvYoFw2L1zT"
      },
      "source": [
        "#### Data Operations\n",
        "\n",
        "Applying functions to data"
      ]
    },
    {
      "cell_type": "code",
      "execution_count": null,
      "metadata": {
        "id": "dwXXWRSsL1zT",
        "outputId": "f4c6843a-2eff-4865-89ec-2491f8ac564b"
      },
      "outputs": [
        {
          "name": "stdout",
          "output_type": "stream",
          "text": [
            "   Country    Capital  Population  Population in Millions\n",
            "0  Belgium   Brussels    11190846               11.190846\n",
            "1    India  New Delhi  1303171035             1303.171035\n",
            "2   Brazil   Brasília   207847528              207.847528\n"
          ]
        }
      ],
      "source": [
        "df['Population in Millions'] = df['Population'].apply(lambda x: x / 1000000)\n",
        "print(df)"
      ]
    },
    {
      "cell_type": "markdown",
      "metadata": {
        "id": "VtSo_ixUL1zT"
      },
      "source": [
        "#### Basic Data Analysis"
      ]
    },
    {
      "cell_type": "markdown",
      "metadata": {
        "id": "jDoAf2qZL1zT"
      },
      "source": [
        "Descriptive statistics"
      ]
    },
    {
      "cell_type": "code",
      "execution_count": null,
      "metadata": {
        "id": "BmEnOIDUL1zT",
        "outputId": "7522f052-aa4e-4be5-f3ac-c49869f87984"
      },
      "outputs": [
        {
          "name": "stdout",
          "output_type": "stream",
          "text": [
            "         Population  Population in Millions\n",
            "count  3.000000e+00                3.000000\n",
            "mean   5.074031e+08              507.403136\n",
            "std    6.961346e+08              696.134595\n",
            "min    1.119085e+07               11.190846\n",
            "25%    1.095192e+08              109.519187\n",
            "50%    2.078475e+08              207.847528\n",
            "75%    7.555093e+08              755.509282\n",
            "max    1.303171e+09             1303.171035\n"
          ]
        }
      ],
      "source": [
        "print(df.describe())"
      ]
    },
    {
      "cell_type": "markdown",
      "metadata": {
        "id": "EWI-cHhKL1zU"
      },
      "source": [
        "Finding unique values"
      ]
    },
    {
      "cell_type": "code",
      "execution_count": null,
      "metadata": {
        "id": "hSRULws9L1zU",
        "outputId": "9362db3f-2450-4ffe-d3b3-149d5f181b33"
      },
      "outputs": [
        {
          "name": "stdout",
          "output_type": "stream",
          "text": [
            "['Belgium' 'India' 'Brazil']\n"
          ]
        }
      ],
      "source": [
        "print(df['Country'].unique())"
      ]
    },
    {
      "cell_type": "markdown",
      "metadata": {
        "id": "EyKThun2L1zU"
      },
      "source": [
        "Counting values"
      ]
    },
    {
      "cell_type": "code",
      "execution_count": null,
      "metadata": {
        "id": "SNlCa7pxL1zU",
        "outputId": "85da9ffd-0c6f-486d-8616-0f40b084eef4"
      },
      "outputs": [
        {
          "name": "stdout",
          "output_type": "stream",
          "text": [
            "Country\n",
            "Belgium    1\n",
            "India      1\n",
            "Brazil     1\n",
            "Name: count, dtype: int64\n"
          ]
        }
      ],
      "source": [
        "print(df['Country'].value_counts())"
      ]
    }
  ],
  "metadata": {
    "colab": {
      "collapsed_sections": [
        "kHZQ-tLt5B-j",
        "lR1m3xId5Sh3",
        "GPzQWLh85ldk",
        "wnu3K2ud5v5z",
        "rSnpJre56idv",
        "azYX4_b76bRF",
        "i7Jen-9w2-wM",
        "RsAbjbs963yA",
        "Zb4SgSgi63yF",
        "tmxAIltHENii",
        "qi809PCWEVGY",
        "gSFMLGfYEedE",
        "AD6c26QQLw9i",
        "iC_Xnj4sEiWk"
      ],
      "provenance": [],
      "include_colab_link": true
    },
    "kernelspec": {
      "display_name": "Python 3",
      "language": "python",
      "name": "python3"
    },
    "language_info": {
      "codemirror_mode": {
        "name": "ipython",
        "version": 3
      },
      "file_extension": ".py",
      "mimetype": "text/x-python",
      "name": "python",
      "nbconvert_exporter": "python",
      "pygments_lexer": "ipython3",
      "version": "3.11.7"
    }
  },
  "nbformat": 4,
  "nbformat_minor": 0
}